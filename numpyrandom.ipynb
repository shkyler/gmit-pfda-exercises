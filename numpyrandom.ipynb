{
 "cells": [
  {
   "cell_type": "markdown",
   "metadata": {},
   "source": [
    "<p align=\"center\">\n",
    "  <img src=\"img/GMITLOGO.jpg\" width=\"500px\" height=\"200px\"/></p>"
   ]
  },
  {
   "cell_type": "markdown",
   "metadata": {},
   "source": [
    "# GMIT, H.Dip in Data Analytics, Progamming for Data Analysis Assignment 2018"
   ]
  },
  {
   "cell_type": "markdown",
   "metadata": {},
   "source": [
    "## 1. Introduction\n",
    "\n",
    "This repository contains all of the files pertaining to my 2018 assignment submission for the Programming for Data Analysis module of the GMIT H.Dip program in Data Analytics. All of the work within this repository was carried out over the course of a 4 week period in October and November 2018. This Jupyter notebook [1] contains the complete documentation for the project."
   ]
  },
  {
   "cell_type": "markdown",
   "metadata": {},
   "source": [
    "### 1.1 Project objective\n",
    "\n",
    "The objective of this assignment is to carryout some research into the numpy.random package in Python [2]. As part of the work there is a requirement to investigate some of the functions in the package and summarise how and why they are used. This can be done by writing some scripts to demonstrate them. The problem statement for the assignment is follows[3]:\n",
    "\n",
    "1. Explain the overall purpose of the (numpy.random) package.\n",
    "1. Explain the use of the “Simple random data” and “Permutations” functions.\n",
    "1. Explain the use and purpose of at least five “Distributions” functions.\n",
    "1. Explain the use of seeds in generating pseudorandom numbers."
   ]
  },
  {
   "cell_type": "markdown",
   "metadata": {},
   "source": [
    "## 2. The numpy.random package in Python\n",
    "\n"
   ]
  },
  {
   "cell_type": "markdown",
   "metadata": {},
   "source": [
    "### 2.1 Introduction to numpy\n",
    "\n",
    "According to the numpy documentation, \"NumPy is a Python extension module that provides efficient operation on arrays of homogeneous data\"[4]. What this means, is that numpy is a add-on package for Python that is not included as part of the standard library. It provides functionality for users to create multi-dimensional arrays of data and manipulate them using Python. The data in the arrays must be of the same type. Some of the benfits of using numpy are:\n",
    "\n",
    "1. It is free to use and open source, so it might be more attractive than propietry alternatives such as MATLAB\n",
    "1. The homogenous data stored in the arrays does not have to checked for \"type\" during operations making operations more efficient\n",
    "1. Numpy arrays are \"vectorised\"[5] - this means operations applied to the array are applied to each item in it. What this means is that an array can be say mulitplied by 2 and each item in the array will be mulplied by 2. Multiplying a list by 2 would yield an error!\n",
    "1. Another characteristic of arrays is that one they are initialised the size and shape cannot be changed[5] - this is desirable in some applications.\n",
    "\n",
    "Numpy is developed and maintained by SciPy community[6]. It is just one tool in the SciPy ecosystem. Other tools include:\n",
    "* Jupyter notebooks\n",
    "* IPython\n",
    "* Pandas\n",
    "* Matplotlib\n",
    "* The SciPy library\n",
    "\n",
    "All of the above packages are installed as part of the Anaconda distribution of Python."
   ]
  },
  {
   "cell_type": "markdown",
   "metadata": {},
   "source": [
    "### 2.2 Introduction to numpy.random\n",
    "\n",
    "Numpy.random is a sub-package of the numpy extension in Python. It provides fuctionality to allow the generation of random data. This is useful in many scenarios such as desiging and running simulations. According to the official documentation[2], there are four main sections in the package, each filled with many functions. These sections are:\n",
    "* Simple Random Data\n",
    "* Permutations\n",
    "* Distributions\n",
    "* Random Generator\n",
    "\n",
    "Each of the functions provides options for creating arrays with random data and depending on the function chosen and the arguments passed, a user can determine:\n",
    "* Size and shape of the array\n",
    "* Data type for the array\n",
    "* Range of data in the array\n",
    "* Distribution of data in the array\n",
    "\n",
    "The remainder of this notebook will look at some of the functions in each of the four sections, and explain their use by way of code demonstrations.\n"
   ]
  },
  {
   "cell_type": "markdown",
   "metadata": {},
   "source": [
    "## 3. Simple Random Data Function\n",
    "\n",
    "In this section, the simple random data functions will be discussed and explained using the numpy.random documentation [2] as a guide. Before beginnig the code demonstrations the required libraries for this notebook are imported"
   ]
  },
  {
   "cell_type": "code",
   "execution_count": 2,
   "metadata": {},
   "outputs": [],
   "source": [
    "# Import Libraries\n",
    "import numpy as np\n",
    "import matplotlib.pyplot as plt"
   ]
  },
  {
   "cell_type": "markdown",
   "metadata": {},
   "source": [
    "### 3.1 Generating an array of random floats using numpy.random.rand()\n",
    "\n",
    "This function allows the user to create an array of floating point numbers whose values are in the range between 0 and 1 - where 0 is included and 1 isn't. This is also known as a *half open interval* denoted by `[0,1)`. \n",
    "* The values in the array are uniformly chosen - so each value is a likely to be picked as any other. \n",
    "* The function will allow the user to pass any number of integer arguments, eack one representing the lenght of a\n",
    "dimension for the array. \n",
    "* If the function is called with no arguments, it return a single float. \n",
    "This function is demonstrated below:"
   ]
  },
  {
   "cell_type": "code",
   "execution_count": 3,
   "metadata": {},
   "outputs": [
    {
     "name": "stdout",
     "output_type": "stream",
     "text": [
      "[[ 0.67905204  0.86523988]\n",
      " [ 0.94439438  0.83196192]\n",
      " [ 0.85571651  0.68657833]]\n"
     ]
    }
   ],
   "source": [
    "# Create a random 3 x 2 array and print it out\n",
    "a_array = np.random.rand(3,2)\n",
    "print(a_array)"
   ]
  },
  {
   "cell_type": "markdown",
   "metadata": {},
   "source": [
    "As expected the function created a 3 x 2 array, filled with random floats whose values are greater than or equal to zero and less than 1. Next the function will be called with no arguments"
   ]
  },
  {
   "cell_type": "code",
   "execution_count": 4,
   "metadata": {},
   "outputs": [
    {
     "name": "stdout",
     "output_type": "stream",
     "text": [
      "0.6723302907769035\n"
     ]
    }
   ],
   "source": [
    "# Call the rand() function with no arguments and print it out\n",
    "a_single = np.random.rand()\n",
    "print(a_single)"
   ]
  },
  {
   "cell_type": "markdown",
   "metadata": {},
   "source": [
    "As expected a single float with a value between 0 and 1 was created. The next thing to demonstrate is the distribution of values from the function. "
   ]
  },
  {
   "cell_type": "code",
   "execution_count": 29,
   "metadata": {},
   "outputs": [
    {
     "data": {
      "image/png": "[encoded data removed]",
      "text/plain": [
       "<matplotlib.figure.Figure at 0x114948d68>"
      ]
     },
     "metadata": {
      "needs_background": "light"
     },
     "output_type": "display_data"
    }
   ],
   "source": [
    "# Create a list by calling the fuction 10,000 times\n",
    "a_dist = [np.random.rand() for i in range(10000)]\n",
    "# Plot a histogram of the 10,000 values to visualise the spread\n",
    "plt.hist(a_dist, color=\"blue\")\n",
    "plt.show()"
   ]
  },
  {
   "cell_type": "markdown",
   "metadata": {},
   "source": [
    "The function has selected the 10,000 items in such a way that approx 1/10 of them fall into each of the ten bins in the histogram - they are uniformly distributed"
   ]
  },
  {
   "cell_type": "markdown",
   "metadata": {},
   "source": [
    "### 3.2 Generating an array of random floats using numpy.random.randn()\n",
    "\n",
    "This function allows the user to create an array of floating point numbers whose values are in the  *half open interval* `[0,1)`. \n",
    "* The values in the array are chosen from the *standard normal distribution* which is a special case of the normal distriution where the mean is 0 and the standard deviation is 1. This means that the values are more likely to occur close to 0, and that most values will be in the range `[-3,3]` according to the empirical rule which states that 99.7% of the numbers should fall between +/- 3 standard deviations from the mean.\n",
    "* The function will allow the user to pass any number of integer arguments, eack one representing the lenght of a dimension for the array. \n",
    "* If the function is called with no arguments, it return a single float. \n",
    "This function is demonstrated below:"
   ]
  },
  {
   "cell_type": "code",
   "execution_count": 6,
   "metadata": {},
   "outputs": [
    {
     "name": "stdout",
     "output_type": "stream",
     "text": [
      "[[-0.43563065  1.68700962]\n",
      " [-0.94116172 -0.58579733]\n",
      " [ 0.43162158 -0.18178055]]\n"
     ]
    }
   ],
   "source": [
    "# Create a random 3 x 2 array and print it out\n",
    "b_array = np.random.randn(3,2)\n",
    "print(b_array)"
   ]
  },
  {
   "cell_type": "markdown",
   "metadata": {},
   "source": [
    "The function has created a 3 x 2 array of random numbers. Calling the function without any arguemnts should return a single float:"
   ]
  },
  {
   "cell_type": "code",
   "execution_count": 7,
   "metadata": {},
   "outputs": [
    {
     "name": "stdout",
     "output_type": "stream",
     "text": [
      "1.3604737346149216\n"
     ]
    }
   ],
   "source": [
    "# Call the randn() function with no arguments and print it\n",
    "b_single = np.random.randn()\n",
    "print(b_single)"
   ]
  },
  {
   "cell_type": "markdown",
   "metadata": {},
   "source": [
    "To demonstrate the distribution of the values selected by this function, a list is defined by calling the function 10,000 times. A histogram will be used to visualise the spread of values. Values close to zero should have a higher probability of being selected, with the probability falling away as the values move towards -3 and 3."
   ]
  },
  {
   "cell_type": "code",
   "execution_count": 30,
   "metadata": {},
   "outputs": [
    {
     "data": {
      "text/plain": [
       "<function matplotlib.pyplot.show(*args, **kw)>"
      ]
     },
     "execution_count": 30,
     "metadata": {},
     "output_type": "execute_result"
    },
    {
     "data": {
      "image/png": "[encoded data removed]",
      "text/plain": [
       "<matplotlib.figure.Figure at 0x1147f6b38>"
      ]
     },
     "metadata": {
      "needs_background": "light"
     },
     "output_type": "display_data"
    }
   ],
   "source": [
    "# Call the function 10,000 times and create a list of the values it returns\n",
    "b_dist = [np.random.randn() for i in range(10000)]\n",
    "# Plot a histogram to visulise the distribution\n",
    "plt.hist(b_dist, color=\"red\")\n",
    "plt.show"
   ]
  },
  {
   "cell_type": "markdown",
   "metadata": {},
   "source": [
    "This demonstrates that the while both rand() and randn() are called in the same manner using the same types of arguments to return the same size arrays, there is a vast difference between the two functions regarding the manner in which they select the *\"random\"* values to return"
   ]
  },
  {
   "cell_type": "markdown",
   "metadata": {},
   "source": [
    "### 3.3 Generating an array of random integers using numpy.random.randint()\n",
    "\n",
    "In this section the randint() function for generating random integers is demonstrated. randint() takes at least one argument, and returns a random integer from the uniform distribution as follows:\n",
    "* If only one argument is passed - it must be of type integer, the function will return an random integer in the range 0 to the argument (inclusive of zero but not the argument)\n",
    "* If 2 arguments are passed - they must be of type integer, the function will return a random integer in the range between the 2 arguments (inclusive of the low value but not the high value)\n",
    "* A third argument can be passed - a tuple to represent the size of an array to be returned filed with random integers from the range between the arguments passed (inclusive of the low value but not the high value)\n",
    "\n",
    "Each of these cases are demonstrated below:"
   ]
  },
  {
   "cell_type": "code",
   "execution_count": 35,
   "metadata": {},
   "outputs": [
    {
     "name": "stdout",
     "output_type": "stream",
     "text": [
      "7\n"
     ]
    }
   ],
   "source": [
    "# Generate a random integer by passing just 1 argument, then print the value\n",
    "c_sing = np.random.randint(10)\n",
    "print(c_sing)"
   ]
  },
  {
   "cell_type": "code",
   "execution_count": 36,
   "metadata": {},
   "outputs": [
    {
     "name": "stdout",
     "output_type": "stream",
     "text": [
      "98\n"
     ]
    }
   ],
   "source": [
    "# Generate a random integer in a specified range by passing 2 ingegers, then print value\n",
    "c_doub = np.random.randint(-3,100)\n",
    "print(c_doub)"
   ]
  },
  {
   "cell_type": "code",
   "execution_count": 26,
   "metadata": {},
   "outputs": [
    {
     "name": "stdout",
     "output_type": "stream",
     "text": [
      "[[54 71]\n",
      " [45 41]\n",
      " [31 85]]\n"
     ]
    }
   ],
   "source": [
    "# Generate an array (of specified size) of random integers, in a specified range\n",
    "c_array = np.random.randint(-3,100,(3,2))\n",
    "print(c_array)"
   ]
  },
  {
   "cell_type": "markdown",
   "metadata": {},
   "source": [
    "The distribution from which the function selects the data can be demonstrated by running the function 10,000 times and plotting a histogram of the results:"
   ]
  },
  {
   "cell_type": "code",
   "execution_count": 33,
   "metadata": {},
   "outputs": [
    {
     "data": {
      "image/png": "[encoded data removed]",
      "text/plain": [
       "<matplotlib.figure.Figure at 0x114da91d0>"
      ]
     },
     "metadata": {
      "needs_background": "light"
     },
     "output_type": "display_data"
    }
   ],
   "source": [
    "# Create a list filled with 10,000 random integers generated unit randint()\n",
    "# Select a value between 0 and 9 (inclusive) 10,000\n",
    "c_dist = [np.random.randint(10) for i in range(10000)]\n",
    "plt.hist(c_dist, color=\"green\")\n",
    "plt.show()"
   ]
  },
  {
   "cell_type": "markdown",
   "metadata": {},
   "source": [
    "The histogram demonstrates that the function returns uniformly distributed values as there are approximatley 1000 numbers in each of the 10 histogram bins. Note that the histogram only displays values in the range 0 to 9.\n",
    "\n",
    "There is another function called numpy.random.randon_integers() that can be called to generate random integers. According to the numpy.random documentation[7] this function has been deprecated, and randint() should be used instead\n"
   ]
  },
  {
   "cell_type": "markdown",
   "metadata": {},
   "source": [
    "## 4. Permutation Function"
   ]
  },
  {
   "cell_type": "markdown",
   "metadata": {},
   "source": [
    "## 5. Distributions"
   ]
  },
  {
   "cell_type": "markdown",
   "metadata": {},
   "source": [
    "### 5.1 Binomial Distribution"
   ]
  },
  {
   "cell_type": "markdown",
   "metadata": {},
   "source": [
    "### 5.2 Normal Distribution"
   ]
  },
  {
   "cell_type": "markdown",
   "metadata": {},
   "source": [
    "### 5.3 Poisson Distribution"
   ]
  },
  {
   "cell_type": "markdown",
   "metadata": {},
   "source": [
    "### 5.4 Weibull Distribution"
   ]
  },
  {
   "cell_type": "markdown",
   "metadata": {},
   "source": [
    "### 5.5 Uniform Distribution"
   ]
  },
  {
   "cell_type": "markdown",
   "metadata": {},
   "source": [
    "### 5.6 Student-t Distribution"
   ]
  },
  {
   "cell_type": "markdown",
   "metadata": {},
   "source": [
    "## 6. Pseudorandom Numbers"
   ]
  },
  {
   "cell_type": "markdown",
   "metadata": {},
   "source": [
    "### 6.1 Seeding of random numbers"
   ]
  },
  {
   "cell_type": "markdown",
   "metadata": {},
   "source": [
    "## 7. Discusion and Conclusion"
   ]
  },
  {
   "cell_type": "markdown",
   "metadata": {},
   "source": [
    "## References\n",
    "\n",
    "1. [1] Project Jupyter. Project Jupyter Home. (_https://www.jupyter.org/_)\n",
    "1. [2] Numpy Deveolpment Team. Numpy Random Sampling (nump.random) (_https://docs.scipy.org/doc/numpy-1.15.1/reference/routines.random.html_)\n",
    "1. [3] Dr. Ian McLoughlin. GMIT. Assignment 2018: Programming for Data Analysis (_https://github.com/ianmcloughlin/progda-assignment-2018/raw/master/assignment.pdf_)\n",
    "1. [4] Numpy Development Team. Numpy Home (_http://www.numpy.org_)\n",
    "1. [5] Machine Learning Plus. Numpy Tutorial Part 1. (_https://www.machinelearningplus.com/python/numpy-tutorial-part1-array-python-examples/_)\n",
    "1. [6] SciPy Development Team. Scipy Home (_https://www.scipy.org_)\n",
    "1. [7] Numpy Development Team. numpy.random.random_integers(_https://docs.scipy.org/doc/numpy-1.13.0/reference/generated/numpy.random.random_integers.html#numpy.random.random_integers)"
   ]
  },
  {
   "cell_type": "markdown",
   "metadata": {},
   "source": [
    "# DONT FORGET TO UPDATE THE README.md FILE!!"
   ]
  },
  {
   "cell_type": "code",
   "execution_count": null,
   "metadata": {},
   "outputs": [],
   "source": []
  }
 ],
 "metadata": {
  "kernelspec": {
   "display_name": "Python 3",
   "language": "python",
   "name": "python3"
  },
  "language_info": {
   "codemirror_mode": {
    "name": "ipython",
    "version": 3
   },
   "file_extension": ".py",
   "mimetype": "text/x-python",
   "name": "python",
   "nbconvert_exporter": "python",
   "pygments_lexer": "ipython3",
   "version": "3.6.6"
  }
 },
 "nbformat": 4,
 "nbformat_minor": 2
}
