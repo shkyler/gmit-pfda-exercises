{
 "cells": [
  {
   "cell_type": "markdown",
   "metadata": {},
   "source": [
    "<p align=\"center\">\n",
    "  <img src=\"img/GMITLOGO.jpg\" width=\"500px\" height=\"200px\"/></p>"
   ]
  },
  {
   "cell_type": "markdown",
   "metadata": {},
   "source": [
    "# GMIT, H.Dip in Data Analytics, Progamming for Data Analysis Assignment 2018"
   ]
  },
  {
   "cell_type": "markdown",
   "metadata": {},
   "source": [
    "## 1. Introduction\n",
    "\n",
    "This repository contains all of the files pertaining to my 2018 assignment submission for the Programming for Data Analysis module of the GMIT H.Dip program in Data Analytics. All of the work within this repository was carried out over the course of a 4 week period in October and November 2018. This Jupyter notebook [1] contains the complete documentation for the project."
   ]
  },
  {
   "cell_type": "markdown",
   "metadata": {},
   "source": [
    "### 1.1 Project objective\n",
    "\n",
    "The objective of this assignment is to carryout some research into the numpy.random package in Python [2]. As part of the work there is a requirement to investigate some of the functions in the package and summarise how and why they are used. This can be done by writing some scripts to demonstrate them. The problem statement for the assignment is follows[3]:\n",
    "\n",
    "1. Explain the overall purpose of the (numpy.random) package.\n",
    "1. Explain the use of the “Simple random data” and “Permutations” functions.\n",
    "1. Explain the use and purpose of at least five “Distributions” functions.\n",
    "1. Explain the use of seeds in generating pseudorandom numbers."
   ]
  },
  {
   "cell_type": "markdown",
   "metadata": {},
   "source": [
    "## 2. The numpy.random package in Python\n",
    "\n"
   ]
  },
  {
   "cell_type": "markdown",
   "metadata": {},
   "source": [
    "### 2.1 Introduction to numpy\n",
    "\n",
    "According to the numpy documentation, \"NumPy is a Python extension module that provides efficient operation on arrays of homogeneous data\"[4]. What this means, is that numpy is a add-on package for Python that is not included as part of the standard library. It provides functionality for users to create multi-dimensional arrays of data and manipulate them using Python. The data in the arrays must be of the same type. Some of the benfits of using numpy are:\n",
    "\n",
    "1. It is free to use and open source, so it might be more attractive than propietry alternatives such as MATLAB\n",
    "1. The homogenous data stored in the arrays does not have to checked for \"type\" during operations making operations more efficient\n",
    "1. Numpy arrays are \"vectorised\"[5] - this means operations applied to the array are applied to each item in it. What this means is that an array can be say mulitplied by 2 and each item in the array will be mulplied by 2. Multiplying a list by 2 would yield an error!\n",
    "1. Another characteristic of arrays is that one they are initialised the size and shape cannot be changed[5] - this is desirable in some applications.\n",
    "\n",
    "Numpy is developed and maintained by SciPy community[6]. It is just one tool in the SciPy ecosystem. Other tools include:\n",
    "* Jupyter notebooks\n",
    "* IPython\n",
    "* Pandas\n",
    "* Matplotlib\n",
    "* The SciPy library\n",
    "\n",
    "All of the above packages are installed as part of the Anaconda distribution of Python."
   ]
  },
  {
   "cell_type": "markdown",
   "metadata": {},
   "source": [
    "### 2.2 Introduction to numpy.random\n",
    "\n",
    "Numpy.random is a sub-package of the numpy extension in Python. It provides fuctionality to allow the generation of random data. This is useful in many scenarios such as desiging and running simulations. According to the official documentation[2], there are four main sections in the package, each filled with many functions. These sections are:\n",
    "* Simple Random Data\n",
    "* Permutations\n",
    "* Distributions\n",
    "* Random Generator\n",
    "\n",
    "Each of the functions provides options for creating arrays with random data and depending on the function chosen and the arguments passed, a user can determine:\n",
    "* Size and shape of the array\n",
    "* Data type for the array\n",
    "* Range of data in the array\n",
    "* Distribution of data in the array\n",
    "\n",
    "The remainder of this notebook will look at some of the functions in each of the four sections, and explain their use by way of code demonstrations.\n"
   ]
  },
  {
   "cell_type": "markdown",
   "metadata": {},
   "source": [
    "## 3. Simple Random Data Function\n",
    "\n",
    "In this section, the simple random data functions will be discussed and explained using the numpy.random documentation [2] as a guide. Before beginnig the code demonstrations the required libraries for this notebook are imported"
   ]
  },
  {
   "cell_type": "code",
   "execution_count": 4,
   "metadata": {},
   "outputs": [],
   "source": [
    "# Import Libraries\n",
    "import numpy as np\n",
    "import matplotlib.pyplot as plt\n",
    "import math"
   ]
  },
  {
   "cell_type": "markdown",
   "metadata": {},
   "source": [
    "### 3.1 Generating an array of random floats using numpy.random.rand()\n",
    "\n",
    "This function allows the user to create an array of floating point numbers whose values are in the range between 0 and 1 - where 0 is included and 1 isn't. This is also known as a *half open interval* denoted by `[0,1)`. \n",
    "* The values in the array are uniformly chosen - so each value is a likely to be picked as any other. \n",
    "* The function will allow the user to pass any number of integer arguments, eack one representing the lenght of a\n",
    "dimension for the array. \n",
    "* If the function is called with no arguments, it return a single float. \n",
    "This function is demonstrated below:"
   ]
  },
  {
   "cell_type": "code",
   "execution_count": 5,
   "metadata": {},
   "outputs": [
    {
     "name": "stdout",
     "output_type": "stream",
     "text": [
      "[[ 0.55145207  0.85655673]\n",
      " [ 0.67839494  0.07438719]\n",
      " [ 0.23726355  0.41333501]]\n"
     ]
    }
   ],
   "source": [
    "# Create a random 3 x 2 array and print it out\n",
    "a_array = np.random.rand(3,2)\n",
    "print(a_array)"
   ]
  },
  {
   "cell_type": "markdown",
   "metadata": {},
   "source": [
    "As expected the function created a 3 x 2 array, filled with random floats whose values are greater than or equal to zero and less than 1. Next the function will be called with no arguments"
   ]
  },
  {
   "cell_type": "code",
   "execution_count": 6,
   "metadata": {},
   "outputs": [
    {
     "name": "stdout",
     "output_type": "stream",
     "text": [
      "0.34978981336369963\n"
     ]
    }
   ],
   "source": [
    "# Call the rand() function with no arguments and print it out\n",
    "a_single = np.random.rand()\n",
    "print(a_single)"
   ]
  },
  {
   "cell_type": "markdown",
   "metadata": {},
   "source": [
    "As expected a single float with a value between 0 and 1 was created. The next thing to demonstrate is the distribution of values from the function. "
   ]
  },
  {
   "cell_type": "code",
   "execution_count": 7,
   "metadata": {},
   "outputs": [
    {
     "data": {
      "image/png": "[encoded data removed]",
      "text/plain": [
       "<matplotlib.figure.Figure at 0x109e74128>"
      ]
     },
     "metadata": {
      "needs_background": "light"
     },
     "output_type": "display_data"
    }
   ],
   "source": [
    "# Create a list by calling the fuction 10,000 times\n",
    "a_dist = [np.random.rand() for i in range(10000)]\n",
    "# Plot a histogram of the 10,000 values to visualise the spread\n",
    "plt.hist(a_dist, color=\"blue\")\n",
    "plt.show()"
   ]
  },
  {
   "cell_type": "markdown",
   "metadata": {},
   "source": [
    "The function has selected the 10,000 items in such a way that approx 1/10 of them fall into each of the ten bins in the histogram - they are uniformly distributed"
   ]
  },
  {
   "cell_type": "markdown",
   "metadata": {},
   "source": [
    "### 3.2 Generating an array of random floats using numpy.random.randn()\n",
    "\n",
    "This function allows the user to create an array of floating point numbers whose values are in the  *half open interval* `[0,1)`. \n",
    "* The values in the array are chosen from the *standard normal distribution* which is a special case of the normal distriution where the mean is 0 and the standard deviation is 1. This means that the values are more likely to occur close to 0, and that most values will be in the range `[-3,3]` according to the empirical rule which states that 99.7% of the numbers should fall between +/- 3 standard deviations from the mean.\n",
    "* The function will allow the user to pass any number of integer arguments, eack one representing the lenght of a dimension for the array. \n",
    "* If the function is called with no arguments, it return a single float. \n",
    "This function is demonstrated below:"
   ]
  },
  {
   "cell_type": "code",
   "execution_count": 8,
   "metadata": {},
   "outputs": [
    {
     "name": "stdout",
     "output_type": "stream",
     "text": [
      "[[ 0.10777222 -0.82890548]\n",
      " [ 1.10967741  0.9146746 ]\n",
      " [-0.94083093  0.5251123 ]]\n"
     ]
    }
   ],
   "source": [
    "# Create a random 3 x 2 array and print it out\n",
    "b_array = np.random.randn(3,2)\n",
    "print(b_array)"
   ]
  },
  {
   "cell_type": "markdown",
   "metadata": {},
   "source": [
    "The function has created a 3 x 2 array of random numbers. Calling the function without any arguemnts should return a single float:"
   ]
  },
  {
   "cell_type": "code",
   "execution_count": 9,
   "metadata": {},
   "outputs": [
    {
     "name": "stdout",
     "output_type": "stream",
     "text": [
      "0.33358692432844356\n"
     ]
    }
   ],
   "source": [
    "# Call the randn() function with no arguments and print it\n",
    "b_single = np.random.randn()\n",
    "print(b_single)"
   ]
  },
  {
   "cell_type": "markdown",
   "metadata": {},
   "source": [
    "To demonstrate the distribution of the values selected by this function, a list is defined by calling the function 10,000 times. A histogram will be used to visualise the spread of values. Values close to zero should have a higher probability of being selected, with the probability falling away as the values move towards -3 and 3."
   ]
  },
  {
   "cell_type": "code",
   "execution_count": 10,
   "metadata": {},
   "outputs": [
    {
     "data": {
      "text/plain": [
       "<function matplotlib.pyplot.show(*args, **kw)>"
      ]
     },
     "execution_count": 10,
     "metadata": {},
     "output_type": "execute_result"
    },
    {
     "data": {
      "image/png": "[encoded data removed]",
      "text/plain": [
       "<matplotlib.figure.Figure at 0x10cabf240>"
      ]
     },
     "metadata": {
      "needs_background": "light"
     },
     "output_type": "display_data"
    }
   ],
   "source": [
    "# Call the function 10,000 times and create a list of the values it returns\n",
    "b_dist = [np.random.randn() for i in range(10000)]\n",
    "# Plot a histogram to visulise the distribution\n",
    "plt.hist(b_dist, color=\"red\")\n",
    "plt.show"
   ]
  },
  {
   "cell_type": "markdown",
   "metadata": {},
   "source": [
    "This demonstrates that the while both rand() and randn() are called in the same manner using the same types of arguments to return the same size arrays, there is a vast difference between the two functions regarding the manner in which they select the *\"random\"* values to return"
   ]
  },
  {
   "cell_type": "markdown",
   "metadata": {},
   "source": [
    "### 3.3 Generating an array of random floats using numpy.random.random sample\n",
    "\n",
    "There is one other function for generating random floats in the package - numpy.random.random_sample. This function works exactly like rand(), with only differnce being that instead of passing integers as the size arguments, this function takes a single tuple as an argument. This is demonstrated as follows:"
   ]
  },
  {
   "cell_type": "code",
   "execution_count": 11,
   "metadata": {},
   "outputs": [
    {
     "name": "stdout",
     "output_type": "stream",
     "text": [
      "[[ 0.30234526  0.29076183]\n",
      " [ 0.88110187  0.50570466]\n",
      " [ 0.84936071  0.16807587]\n",
      " [ 0.24835292  0.77489663]]\n"
     ]
    }
   ],
   "source": [
    "# Define the size tuple for a 4 x 2 array\n",
    "array_size = (4,2)\n",
    "# Create a random 4 x 2 array and print it out\n",
    "c_array = np.random.random_sample(array_size)\n",
    "print(c_array)"
   ]
  },
  {
   "cell_type": "code",
   "execution_count": 12,
   "metadata": {},
   "outputs": [
    {
     "name": "stdout",
     "output_type": "stream",
     "text": [
      "0.17691505647503225\n"
     ]
    }
   ],
   "source": [
    "# A single float can be returned by passing an empty tuple\n",
    "array_size = ()\n",
    "c_array = np.random.random_sample(array_size)\n",
    "print(c_array)"
   ]
  },
  {
   "cell_type": "markdown",
   "metadata": {},
   "source": [
    "As with the rand() function, random numbers are generated from a uniform distribution, this is demonstarted below:"
   ]
  },
  {
   "cell_type": "code",
   "execution_count": 13,
   "metadata": {},
   "outputs": [
    {
     "data": {
      "text/plain": [
       "<function matplotlib.pyplot.show(*args, **kw)>"
      ]
     },
     "execution_count": 13,
     "metadata": {},
     "output_type": "execute_result"
    },
    {
     "data": {
      "image/png": "[encoded data removed]",
      "text/plain": [
       "<matplotlib.figure.Figure at 0x10cb19400>"
      ]
     },
     "metadata": {
      "needs_background": "light"
     },
     "output_type": "display_data"
    }
   ],
   "source": [
    "# Call the function 10,000 times and create a list of the values it returns\n",
    "c_dist = [np.random.random_sample() for i in range(10000)]\n",
    "# Plot a histogram to visulise the distribution\n",
    "plt.hist(c_dist, color=\"pink\")\n",
    "plt.show"
   ]
  },
  {
   "cell_type": "markdown",
   "metadata": {},
   "source": [
    "The difference between random_sample() and random is subltle but could be important in certain applications. For eaxample if ther is a function that returns a tuple, this funtions be be passed as the argument without need for conversion. \n",
    "\n",
    "There are 3 other functions that are actually aliased of the random_sample() function. These functions are:\n",
    "* numpy.random.random()\n",
    "* numpy.random.ranf()\n",
    "* numpy.random.sample()\n",
    "\n",
    "Their inclusion in the numpy package is most likely due to the fact that other programming languages have these functions in them and it makes it easier for users of those languages to *'convert'* to Python. It can be demonstrated that these are aliases by calling them with parentheses:"
   ]
  },
  {
   "cell_type": "code",
   "execution_count": 14,
   "metadata": {},
   "outputs": [
    {
     "data": {
      "text/plain": [
       "<function RandomState.random_sample>"
      ]
     },
     "execution_count": 14,
     "metadata": {},
     "output_type": "execute_result"
    }
   ],
   "source": [
    "# Proof random() is an alias for random_sample()\n",
    "np.random.random"
   ]
  },
  {
   "cell_type": "code",
   "execution_count": 15,
   "metadata": {},
   "outputs": [
    {
     "data": {
      "text/plain": [
       "<function RandomState.random_sample>"
      ]
     },
     "execution_count": 15,
     "metadata": {},
     "output_type": "execute_result"
    }
   ],
   "source": [
    "# Proof ranf() is an alias for random_sample()\n",
    "np.random.ranf"
   ]
  },
  {
   "cell_type": "code",
   "execution_count": 16,
   "metadata": {},
   "outputs": [
    {
     "data": {
      "text/plain": [
       "<function RandomState.random_sample>"
      ]
     },
     "execution_count": 16,
     "metadata": {},
     "output_type": "execute_result"
    }
   ],
   "source": [
    "# Proof sample() is an alias for random_sample()\n",
    "np.random.sample"
   ]
  },
  {
   "cell_type": "markdown",
   "metadata": {},
   "source": [
    "In each case it is demonstarted that the function simply calls the random_sample() function."
   ]
  },
  {
   "cell_type": "markdown",
   "metadata": {},
   "source": [
    "### 3.4 Generating an array of random integers using numpy.random.randint()\n",
    "\n",
    "In this section the randint() function for generating random integers is demonstrated. randint() takes at least one argument, and returns a random integer from the uniform distribution as follows:\n",
    "* If only one argument is passed - it must be of type integer, the function will return an random integer in the range 0 to the argument (inclusive of zero but not the argument)\n",
    "* If 2 arguments are passed - they must be of type integer, the function will return a random integer in the range between the 2 arguments (inclusive of the low value but not the high value)\n",
    "* A third argument can be passed - a tuple to represent the size of an array to be returned filed with random integers from the range between the arguments passed (inclusive of the low value but not the high value)\n",
    "\n",
    "Each of these cases are demonstrated below:"
   ]
  },
  {
   "cell_type": "code",
   "execution_count": 17,
   "metadata": {},
   "outputs": [
    {
     "name": "stdout",
     "output_type": "stream",
     "text": [
      "7\n"
     ]
    }
   ],
   "source": [
    "# Generate a random integer by passing just 1 argument, then print the value\n",
    "d_sing = np.random.randint(10)\n",
    "print(d_sing)"
   ]
  },
  {
   "cell_type": "markdown",
   "metadata": {},
   "source": [
    "As expected, the function returned a random integer in the range 0 to 9 inclusive."
   ]
  },
  {
   "cell_type": "code",
   "execution_count": 18,
   "metadata": {},
   "outputs": [
    {
     "name": "stdout",
     "output_type": "stream",
     "text": [
      "3\n"
     ]
    }
   ],
   "source": [
    "# Generate a random integer in a specified range by passing 2 ingegers, then print value\n",
    "d_doub = np.random.randint(-3,100)\n",
    "print(d_doub)"
   ]
  },
  {
   "cell_type": "markdown",
   "metadata": {},
   "source": [
    "As expected the function returned a random integer in the range -3 to 99 inclusive. Next the function will be rcall with a size agrument passed to return an array."
   ]
  },
  {
   "cell_type": "code",
   "execution_count": 19,
   "metadata": {},
   "outputs": [
    {
     "name": "stdout",
     "output_type": "stream",
     "text": [
      "[[ 3 55]\n",
      " [65 39]\n",
      " [ 7 12]]\n"
     ]
    }
   ],
   "source": [
    "# Generate an array (of specified size) of random integers, in a specified range\n",
    "d_array = np.random.randint(-3,100,(3,2))\n",
    "print(d_array)"
   ]
  },
  {
   "cell_type": "markdown",
   "metadata": {},
   "source": [
    "As expected, the function returned a 3 x 2 array of integers, all of which are in the range -3 to 99 inclusive. \n",
    "\n",
    "The distribution from which the function selects the data can be demonstrated by running the function 10,000 times and plotting a histogram of the results:"
   ]
  },
  {
   "cell_type": "code",
   "execution_count": 20,
   "metadata": {},
   "outputs": [
    {
     "data": {
      "image/png": "[encoded data removed]",
      "text/plain": [
       "<matplotlib.figure.Figure at 0x10cc03ac8>"
      ]
     },
     "metadata": {
      "needs_background": "light"
     },
     "output_type": "display_data"
    }
   ],
   "source": [
    "# Create a list filled with 10,000 random integers generated unit randint()\n",
    "# Select a value between 0 and 9 (inclusive) 10,000\n",
    "d_dist = [np.random.randint(10) for i in range(10000)]\n",
    "plt.hist(d_dist, color=\"green\")\n",
    "plt.show()"
   ]
  },
  {
   "cell_type": "markdown",
   "metadata": {},
   "source": [
    "The histogram demonstrates that the function returns uniformly distributed values as there are approximatley 1000 numbers in each of the 10 histogram bins. Note that the histogram only displays values in the range 0 to 9.\n",
    "\n",
    "There is another function called numpy.random.randon_integers() that can be called to generate random integers. According to the numpy.random documentation[7] this function has been deprecated, and randint() should be used instead\n"
   ]
  },
  {
   "cell_type": "markdown",
   "metadata": {},
   "source": [
    "### 3.5 Selecting a random item from a list using the choice() function.\n",
    "\n",
    "There is one more interesting function in the \"Simple Random Data\" section. It is the choice() function that will randomly select an option from a given list. This function can be demonstrated with a simple list of 8 colours as follows:"
   ]
  },
  {
   "cell_type": "code",
   "execution_count": 21,
   "metadata": {},
   "outputs": [
    {
     "name": "stdout",
     "output_type": "stream",
     "text": [
      "purple\n"
     ]
    }
   ],
   "source": [
    "# Create a list of colours\n",
    "colours = [\"red\", \"green\", \"blue\", \"yellow\", \"orange\", \"black\", \"purple\",\"brown\"]\n",
    "# Use the choice() funtion to pick one colour at random and print it\n",
    "pick = np.random.choice(colours)\n",
    "print(pick)"
   ]
  },
  {
   "cell_type": "markdown",
   "metadata": {},
   "source": [
    "It is also possible to pick a return an array of selctions from the list, this is done by using the *keyword argument* size to pass an array size to the function"
   ]
  },
  {
   "cell_type": "code",
   "execution_count": 22,
   "metadata": {},
   "outputs": [
    {
     "name": "stdout",
     "output_type": "stream",
     "text": [
      "[['purple' 'orange']\n",
      " ['black' 'black']\n",
      " ['purple' 'brown']\n",
      " ['brown' 'red']]\n"
     ]
    }
   ],
   "source": [
    "# Define the size of the array required\n",
    "pick_size = (4,2)\n",
    "# pick an array of colurs and print it\n",
    "pick_array = np.random.choice(colours, size=pick_size)\n",
    "print(pick_array)"
   ]
  },
  {
   "cell_type": "markdown",
   "metadata": {},
   "source": [
    "It is also possible to state whether or not selected items should be replaced between selections in to the returned array. The default is set to replace them. If the \"Replace\"keyword argument is set to false, items will not be replaced but the maximum sise of the returned array (the size defined by *pick_size* tuple in our example) cannot exceed the total number of items allowed for selections (i.e. the lenght of *colours* in our example)"
   ]
  },
  {
   "cell_type": "code",
   "execution_count": 23,
   "metadata": {},
   "outputs": [
    {
     "name": "stdout",
     "output_type": "stream",
     "text": [
      "[['brown' 'blue']\n",
      " ['red' 'yellow']\n",
      " ['purple' 'black']\n",
      " ['green' 'orange']]\n"
     ]
    }
   ],
   "source": [
    "# Define the size of the array required\n",
    "pick_size = (4,2)\n",
    "# pick an array of colurs and print it\n",
    "pick_array = np.random.choice(colours, size=pick_size, replace=False)\n",
    "print(pick_array)"
   ]
  },
  {
   "cell_type": "markdown",
   "metadata": {},
   "source": [
    "Finally a note on the distribution of the selections. By default the items are selected uniformly, this can be demonstrated through the followinf simulation:"
   ]
  },
  {
   "cell_type": "code",
   "execution_count": 24,
   "metadata": {},
   "outputs": [
    {
     "data": {
      "image/png": "[encoded data removed]",
      "text/plain": [
       "<matplotlib.figure.Figure at 0x109e745c0>"
      ]
     },
     "metadata": {
      "needs_background": "light"
     },
     "output_type": "display_data"
    }
   ],
   "source": [
    "# Call the fuction 10,000 times and plot the histogram\n",
    "pick_dist=[np.random.choice(colours) for i in range (10000)]\n",
    "plt.hist(pick_dist, color=\"blue\")\n",
    "plt.show()"
   ]
  },
  {
   "cell_type": "markdown",
   "metadata": {},
   "source": [
    "This demonstrates that all 8 colours in the the original list have an approximately equal chance of being picked by default. It is possible to *load* the selections by passing a proability keyword argument, p. The following must hold for p:\n",
    "* p must be a tuple of floating point numbers, the same lenght as the original list (*colours* in this example)\n",
    "* The total sum of all the floats in *p* must equal 1\n",
    "* The first item in p represents the probability of the first item in the original list (*colours*) being picked\n",
    "* The second item in p represents the second item in *colours* etc.\n",
    "This functionality is demonstrated below:"
   ]
  },
  {
   "cell_type": "code",
   "execution_count": 25,
   "metadata": {},
   "outputs": [
    {
     "data": {
      "image/png": "[encoded data removed]",
      "text/plain": [
       "<matplotlib.figure.Figure at 0x10cad02e8>"
      ]
     },
     "metadata": {
      "needs_background": "light"
     },
     "output_type": "display_data"
    }
   ],
   "source": [
    "# Redefine \"colours\" for clarity\n",
    "colours = [\"red\", \"green\", \"blue\", \"yellow\", \"orange\", \"black\", \"purple\",\"brown\"]\n",
    "# Make red 3 times more likely to be picked than the others using a tuple\n",
    "prob = (0.3, 0.1, 0.1, 0.1, 0.1, 0.1, 0.1, 0.1)\n",
    "pick_dist=[np.random.choice(colours,p=(prob)) for i in range (10000)]\n",
    "plt.hist(pick_dist, color=\"red\")\n",
    "plt.show()"
   ]
  },
  {
   "cell_type": "markdown",
   "metadata": {},
   "source": [
    "As expected \"red\" was selcted about 3 times more often (3000 time in total) than the other colours which were all selected with about the same frequecy (about 1000 times each)."
   ]
  },
  {
   "cell_type": "markdown",
   "metadata": {},
   "source": [
    "## 4. Permutation Function\n",
    "\n",
    "In this section the Permutations functions within the numpy.random package are investigated. There are 2 functions in this section. These are \n",
    "* shuffle()\n",
    "* permutations()\n",
    "\n",
    "The 2 functions are similar, but there is a subtle difference between them. shuffle() takes a list as an input and shuffles the contents of the list in place, and by doing so changes the original list. permutation() takes a list as an input and returns a different permutation of the same list - without changing the arrangement of the original list. Each function will be demonstrated in turn."
   ]
  },
  {
   "cell_type": "markdown",
   "metadata": {},
   "source": [
    "### 4.1 numpy.random.shuffle()\n",
    "\n",
    "This sections will look at the mechanics of the shuffle function in numpy.random."
   ]
  },
  {
   "cell_type": "code",
   "execution_count": 26,
   "metadata": {},
   "outputs": [
    {
     "name": "stdout",
     "output_type": "stream",
     "text": [
      "['orange', 'red', 'black', 'purple', 'brown', 'blue', 'yellow', 'green']\n"
     ]
    }
   ],
   "source": [
    "# Create a list of colours\n",
    "colours = [\"red\", \"green\", \"blue\", \"yellow\", \"orange\", \"black\", \"purple\",\"brown\"]\n",
    "# Use the shuffle() function to re-arrange them and print\n",
    "np.random.shuffle(colours)\n",
    "print(colours)"
   ]
  },
  {
   "cell_type": "markdown",
   "metadata": {},
   "source": [
    "This demonstrates that the shuffle() function actually changes the list that was inputed, as after we run the shuffle fuction, printing the *colours* list returns a new order.\n",
    "\n",
    "Something else to aware of with the shuffle() function, it can be used on multi-dimension arrays but it only shuffles along the first dimension. Items in the other dimensions will remain in the original locations. "
   ]
  },
  {
   "cell_type": "code",
   "execution_count": 27,
   "metadata": {},
   "outputs": [
    {
     "name": "stdout",
     "output_type": "stream",
     "text": [
      "[[0 1 6 4 9]\n",
      " [0 2 7 2 6]\n",
      " [6 5 0 8 1]\n",
      " [1 0 4 4 3]]\n"
     ]
    }
   ],
   "source": [
    "# create a 4 x 5 array of random integers between 0 and 9\n",
    "array = np.random.randint(0,10,(4,5))\n",
    "# print the original array\n",
    "print(array)"
   ]
  },
  {
   "cell_type": "markdown",
   "metadata": {},
   "source": [
    "Now this array is shuffled"
   ]
  },
  {
   "cell_type": "code",
   "execution_count": 28,
   "metadata": {},
   "outputs": [
    {
     "name": "stdout",
     "output_type": "stream",
     "text": [
      "[[0 1 6 4 9]\n",
      " [0 2 7 2 6]\n",
      " [1 0 4 4 3]\n",
      " [6 5 0 8 1]]\n"
     ]
    }
   ],
   "source": [
    "# shuffle the array and print it\n",
    "np.random.shuffle(array)\n",
    "print(array)"
   ]
  },
  {
   "cell_type": "markdown",
   "metadata": {},
   "source": [
    "Notice how the order of the rows has changes but not the order of the items in each row."
   ]
  },
  {
   "cell_type": "markdown",
   "metadata": {},
   "source": [
    "### 4.2 numpy.random.permutation()\n",
    "\n",
    "As stated, pernutation is similar to shuffle with a suble difference being that while shuffle() changes the original list, permutation does not."
   ]
  },
  {
   "cell_type": "code",
   "execution_count": 29,
   "metadata": {},
   "outputs": [
    {
     "name": "stdout",
     "output_type": "stream",
     "text": [
      "['red', 'green', 'blue', 'yellow', 'orange', 'black', 'purple', 'brown']\n"
     ]
    }
   ],
   "source": [
    "# Define a list of colours and print\n",
    "colours = [\"red\", \"green\", \"blue\", \"yellow\", \"orange\", \"black\", \"purple\",\"brown\"]\n",
    "print(colours)"
   ]
  },
  {
   "cell_type": "markdown",
   "metadata": {},
   "source": [
    "Using the permutation function will return a shuffled array"
   ]
  },
  {
   "cell_type": "code",
   "execution_count": 30,
   "metadata": {},
   "outputs": [
    {
     "name": "stdout",
     "output_type": "stream",
     "text": [
      "['orange' 'yellow' 'brown' 'black' 'green' 'purple' 'blue' 'red']\n"
     ]
    }
   ],
   "source": [
    "# permutation() returns a shuffled array\n",
    "print(np.random.permutation(colours))"
   ]
  },
  {
   "cell_type": "markdown",
   "metadata": {},
   "source": [
    "Note that the original list *colours* is unchanged by the operations"
   ]
  },
  {
   "cell_type": "code",
   "execution_count": 31,
   "metadata": {},
   "outputs": [
    {
     "name": "stdout",
     "output_type": "stream",
     "text": [
      "['red', 'green', 'blue', 'yellow', 'orange', 'black', 'purple', 'brown']\n"
     ]
    }
   ],
   "source": [
    "# print the original list\n",
    "print(colours)"
   ]
  },
  {
   "cell_type": "markdown",
   "metadata": {},
   "source": [
    "## 5. Distributions\n",
    "\n",
    "numpy.random provides functionality to the user to generate randon numbers. These random numbers have many use cases, especially in the world of simulation. In this case, a user might choose to generate some random data in order to test or demonstrate a theory. One of the things to bear in mind, however, is that that all simulations are not the same. Most people would probably believe that \"random numbers\" should be drawn with each equal likelihood that each number in the specified range could be selected. In real life, this is not the case. Depending on the simulation carried out, the analyst might need the random data to be chosen in such a way that some numbers have a higher probability of being chosen than others. In other words that the probilities for each number being drawn are _distrubuted_. Some use cases of different probability distributions would be:\n",
    " * modelling times to failure of engineering components\n",
    " * predicting likelyhood of a successful oil exploration\n",
    " * designing ergonomics into daily life\n",
    " * forcasting sales data\n",
    "\n",
    "In each of these cases, different random data is required to properly simulate the characteristics of the model. There are many different ditribution models available in the np.random package and some of these will be looked at in this section."
   ]
  },
  {
   "cell_type": "markdown",
   "metadata": {},
   "source": [
    "### 5.1 Uniform Distribution [8]\n",
    "\n",
    "When most people think of random number generation, they think of uniformly ditributed numbers. It this case each number in the range has equal likelyhood of being drawn. The `numpy.random` function for this purpose is the `uniform` distribution. It is a contiuous distribution so the values drawn are floats. \n",
    "A real life example of how this might be used is for daily sales forecast in the retail sector. The analyst might have idea of what the minimum and maximum daily sales figures could be, and then use random numbers drawn from a uniform distribution to help model a sales forecast. The probability density function, `p(x)` for the uniform distribution is: \n",
    "\n",
    "$$ p(x) = \\frac{1}{b - a} $$\n",
    "\n",
    "Where `a` is the minimum value of the range and `b` is the maximum. The code sample below demonstrates this proability density function:"
   ]
  },
  {
   "cell_type": "code",
   "execution_count": 32,
   "metadata": {},
   "outputs": [
    {
     "data": {
      "image/png": "[encoded data removed]",
      "text/plain": [
       "<matplotlib.figure.Figure at 0x10cd6d6a0>"
      ]
     },
     "metadata": {
      "needs_background": "light"
     },
     "output_type": "display_data"
    }
   ],
   "source": [
    "# Set the minimum and maximum values a and b\n",
    "a = 10\n",
    "b = 40\n",
    "# Generate a list of x-values in the range between minimum and maximum\n",
    "x = np.arange(a,b+1,1)\n",
    "# Calulate a corresponding list of y values using the pdf formula\n",
    "y = [1/(b-a) for i in range(len(x))]\n",
    "# Plot the distribution\n",
    "plt.title(\"Uniform Distribution between \" + str(a) + \" and \" + str(b))\n",
    "plt.xlabel(\"x\")\n",
    "plt. ylabel(\"p(x)\")\n",
    "plt.plot(x,y, 'b-')\n",
    "plt.show()"
   ]
  },
  {
   "cell_type": "markdown",
   "metadata": {},
   "source": [
    "The plot of the pdf above shows that there is a equal chance of each number between 10 and 40 being drawn. The probability of each number is approximately 0.0333 (1/30). In the next example, 10,000 numbers between 10 and 40 will be drawn with the `uniform` distribution. The distribution of these will be compared to the theoretical formula. "
   ]
  },
  {
   "cell_type": "code",
   "execution_count": 33,
   "metadata": {},
   "outputs": [
    {
     "data": {
      "image/png": "[encoded data removed]",
      "text/plain": [
       "<matplotlib.figure.Figure at 0x10cffb828>"
      ]
     },
     "metadata": {
      "needs_background": "light"
     },
     "output_type": "display_data"
    }
   ],
   "source": [
    "# select 10,000 items using uniform distribution in range a to b\n",
    "# note a and b are defined in the previous example\n",
    "data = [np.random.uniform(a,b, 10000)]\n",
    "\n",
    "# Plot a histogram of the probabiltyi density - https://matplotlib.org/api/_as_gen/matplotlib.pyplot.hist.html\n",
    "plt.hist(data, color='red', density=True)\n",
    "plt.title(\"Uniform Distribution between \" + str(a) + \" and \" + str(b))\n",
    "plt.xlabel(\"x\")\n",
    "plt. ylabel(\"P(x)\")\n",
    "# Plot the pdf from the previous example\n",
    "plt.plot(x,y, 'b-')\n",
    "plt.show()"
   ]
  },
  {
   "cell_type": "markdown",
   "metadata": {},
   "source": [
    "The plot above demonstrates how the `uniform` distribution draws numbers in a non-biased way, where each number in the range has an equal chance of being drawn. In the histogram function, setting `desity=True` will scale the output of the histogram so that the area of all bins will sum to 1. p(x), from the pdf should also sum to 1 so this is great for making comaprisons. The next example shows a real life application of the distribution.\n",
    "\n",
    "#### Scenario - Uniform Distribution\n",
    "\n",
    "In this scenario, the owner of an ice-cream shop would like to forecast the monthly sales for the shop. The shop owner knows that the daily sales are always between €50 and €100. The `uniform` distribution will be used to estimate a monthly forecast for July."
   ]
  },
  {
   "cell_type": "code",
   "execution_count": 34,
   "metadata": {},
   "outputs": [
    {
     "name": "stdout",
     "output_type": "stream",
     "text": [
      "Total Sales forecast for July is: €2340.37\n"
     ]
    }
   ],
   "source": [
    "# Set min and max sales\n",
    "min_sales = 50\n",
    "max_sales = 100\n",
    "\n",
    "# return daily sales forecast for the month of July (31 random numbers between 50 and 100)\n",
    "july_sales = [np.random.uniform(min_sales, max_sales, 31)]\n",
    "\n",
    "# round to 2 decimal places \n",
    "print(\"Total Sales forecast for July is: €\" + str(round(np.sum(july_sales),2)))"
   ]
  },
  {
   "cell_type": "markdown",
   "metadata": {},
   "source": [
    "### 5.2 Normal Distribution\n",
    "\n",
    "The Normal distribution is another common distribution that would be seen in everyday life. Items in the normal distribution are distributed about some *mean* value, where items are more likley to be near the mean. The pattern of the spread of values is defined by the *standard deviation*, and this gives a measure of how close most items are to the mean. A real life example of how this might be used for ergonomic design of a doorway. The designer might have idea of what the average heights of tha population and the standard deviation is, and then use random numbers drawn from a normal distribution to help model the right height to set the doorway to ensure people don't have to duck!. \n",
    "The formula for the probability density function for the normal distribution is: \n",
    "\n",
    "![Normal pdf formula](https://qph.fs.quoracdn.net/main-qimg-5b39dd36ad8f6be108f36b4cd109c9d0-c)\n",
    "\n",
    " \n",
    " To illustrate the `normal` distribution, the distribution in height of Irish males will be considered. The average height of an Irish male was found to be 176.6 cm [9]. The standard deviation is difficult to find but taken to be 7 cm for this example [10]."
   ]
  },
  {
   "cell_type": "code",
   "execution_count": 35,
   "metadata": {},
   "outputs": [
    {
     "data": {
      "image/png": "[encoded data removed]",
      "text/plain": [
       "<matplotlib.figure.Figure at 0x10cf9f7f0>"
      ]
     },
     "metadata": {
      "needs_background": "light"
     },
     "output_type": "display_data"
    }
   ],
   "source": [
    "# Plot the distribution\n",
    "# Set the mean\n",
    "m = 176.6\n",
    "# Set the standard deviation \n",
    "s = 7\n",
    "# Set the range to be plus or minus 4 standard deviations from the mean (empirical rule states 99.7% will be in plus or minus 3 standard devs)\n",
    "x = np.arange((m-4*s),(m+4*s),1)\n",
    "y = [1/(s*(2*math.pi)**0.5)*math.exp((-(x[i]-m)**2)/(2*s**2)) for i in range(len(x))]\n",
    "\n",
    "plt.title(\"Normal Distribution of Heights of Irish Males\")\n",
    "plt.xlabel(\"Height cms\")\n",
    "plt. ylabel(\"P(x)\")\n",
    "plt.plot(x,y, 'b-')\n",
    "plt.show()"
   ]
  },
  {
   "cell_type": "markdown",
   "metadata": {},
   "source": [
    "The above plot shows how the heights of Irish male are distributed acooriding to the formula. In the next section, the `normal` distribution function will be used to draw 10,000 samples using the same mean and standard devaition. The drawn samples will then be compared to the theoretical formula."
   ]
  },
  {
   "cell_type": "code",
   "execution_count": 36,
   "metadata": {},
   "outputs": [
    {
     "data": {
      "image/png": "[encoded data removed]",
      "text/plain": [
       "<matplotlib.figure.Figure at 0x10ceb07b8>"
      ]
     },
     "metadata": {
      "needs_background": "light"
     },
     "output_type": "display_data"
    }
   ],
   "source": [
    "# note that the mean (m), and standard deviation (s) are defined in th previous example\n",
    "#select 10,000 items using normal distribution with mean m and standard deviation s\n",
    "data = [np.random.normal(m,s, 10000)]\n",
    "# Plot a histogram of the drawn samples (use 100 bins to show the detail)\n",
    "plt.hist(data, color='red', density=True, bins=100)\n",
    "plt.title(\"Normal Distribution of Heights of Irish Males\")\n",
    "plt.xlabel(\"Height cms\")\n",
    "plt. ylabel(\"P(x)\")\n",
    "# Plot the pdf from the previous example\n",
    "plt.plot(x,y, 'b-')\n",
    "plt.show()"
   ]
  },
  {
   "cell_type": "markdown",
   "metadata": {},
   "source": [
    "This plot demonstrates how the `normal` distribution function draws samples in line with pdf function for the distribution. A real world application for the use of the `numpy.random.normal` distribution function is descibed below. \n",
    "\n",
    "#### Scenario - Normal Distribution\n",
    "\n",
    "In this scenario, an architect would like to design a door frame in such a way that 99% of Irish males could walk under it with out stooping. The architect knows that the average height of an Irish male is 176.6 cm and the standard deviation 7 cm. She want to know what percentage of Irish males will be too tall for a 190 cm door frame."
   ]
  },
  {
   "cell_type": "code",
   "execution_count": 37,
   "metadata": {},
   "outputs": [
    {
     "name": "stdout",
     "output_type": "stream",
     "text": [
      "The percentage of Irish males too tall for a 190cm door is 2.36\n"
     ]
    }
   ],
   "source": [
    "# Set mean and standard deviation\n",
    "m_mean = 176.6\n",
    "s_stddev = 7\n",
    "# Simulate 10,000 Irish male walking through the door \n",
    "irish_males = [np.random.normal(m_mean, s_stddev) for i in range(10000)]\n",
    "\n",
    "# Check each male to see are they too tall\n",
    "too_tall = []\n",
    "for male in irish_males:\n",
    "   if male > 190:\n",
    "    # If they are too tall - record it in the list\n",
    "      too_tall.append(male)\n",
    "    \n",
    "print(\"The percentage of Irish males too tall for a 190cm door is \" + str(round(len(too_tall)*100/10000,2)))"
   ]
  },
  {
   "cell_type": "markdown",
   "metadata": {},
   "source": [
    "As approximately 3% of Irish males will be too tall for a 190cm door, this does not meet the criteria for 99% of males fitting through the door. The calculations can be re-done for a 195cm door:"
   ]
  },
  {
   "cell_type": "code",
   "execution_count": 38,
   "metadata": {},
   "outputs": [
    {
     "name": "stdout",
     "output_type": "stream",
     "text": [
      "The percentage of Irish males too tall for a 195cm door is 0.43\n"
     ]
    }
   ],
   "source": [
    "# Set mean and standard deviation\n",
    "m_mean = 176.6\n",
    "s_stddev = 7\n",
    "# Simulate 10,000 Irish male walking through the door \n",
    "irish_males = [np.random.normal(m_mean, s_stddev) for i in range(10000)]\n",
    "\n",
    "# Check each male to see are they too tall\n",
    "too_tall = []\n",
    "for male in irish_males:\n",
    "   if male > 195:\n",
    "    # If they are too tall - record it in the list\n",
    "      too_tall.append(male)      \n",
    "\n",
    "print(\"The percentage of Irish males too tall for a 195cm door is \" + str(round(len(too_tall)*100/10000,2)))"
   ]
  },
  {
   "cell_type": "markdown",
   "metadata": {},
   "source": [
    "The architect can now design a 195cm door frame to meet the requirements."
   ]
  },
  {
   "cell_type": "markdown",
   "metadata": {},
   "source": [
    "### 5.3 Binomial Distribution\n",
    "\n",
    "A binomial experiment is one which has the following 4 properties [11]:\n",
    "\n",
    "* The experiment consists of a fixed number (pre determined) of repeated trials, `n`\n",
    "* There are exactly 2 possible outcomes to each trial, success or failure\n",
    "* The probability of success is the same on each trial, `p`\n",
    "* The trial are independant - i.e. the outcome of one trial will not effect the other\n",
    "\n",
    "It is possible to model the distribution of all possible out comes froma binomial experiment as the distribtion is defined by the following formula[12]:\n",
    "![Binomial](img/bin.png)\n",
    "\n",
    "The distribution is used widely in forecasting and prediction. Take the following as an example. A production manager in a barley malting plant knows that his barley intake route will start up without faults 90% of the time. He runs the intake route 438 times per year. What is the probability that it will start up correctly at least 400 times. "
   ]
  },
  {
   "cell_type": "code",
   "execution_count": 39,
   "metadata": {},
   "outputs": [
    {
     "data": {
      "image/png": "[encoded data removed]",
      "text/plain": [
       "<matplotlib.figure.Figure at 0x11578feb8>"
      ]
     },
     "metadata": {
      "needs_background": "light"
     },
     "output_type": "display_data"
    }
   ],
   "source": [
    "# Set the varaibles\n",
    "p = 0.90\n",
    "q = 1-p\n",
    "n = 438\n",
    "r = 400 # at least\n",
    "# Plot the distribution\n",
    "x = np.arange(1,(n+1),1)\n",
    "y = [(math.factorial(n)/(math.factorial(x[i])*math.factorial(n-x[i])))*(p**x[i])*(q**(n-x[i])) for i in range(len(x))]\n",
    "\n",
    "plt.title(\"Binomial Distribution\")\n",
    "plt.xlabel(\"No of Successes\")\n",
    "plt.ylabel(\"P(x)\")\n",
    "plt.xlim(360,430)\n",
    "plt.plot(x,y, 'b')\n",
    "plt.show()"
   ]
  },
  {
   "cell_type": "markdown",
   "metadata": {},
   "source": [
    "The above plot demonstrates the the distribution peaks at just under 400. \n",
    "\n",
    "The numpy.random function draws samples from a binomial distribution based on the arguments passed to the function. For comparison 10,000 samples can be drawn from binomial distribution as described in our problem"
   ]
  },
  {
   "cell_type": "code",
   "execution_count": 40,
   "metadata": {},
   "outputs": [
    {
     "data": {
      "image/png": "[encoded data removed]",
      "text/plain": [
       "<matplotlib.figure.Figure at 0x10cc5c828>"
      ]
     },
     "metadata": {
      "needs_background": "light"
     },
     "output_type": "display_data"
    }
   ],
   "source": [
    "# note that p,q,n and r are defines in the previous example\n",
    "#select 10,000 items using binomial distribution with p and n taken from our problem \n",
    "data = [np.random.binomial(n,p, 10000)]\n",
    "# Plot a histogram of the drawn samples\n",
    "plt.hist(data, color='red', density=True, bins=24)\n",
    "plt.title(\"Binomial Distribution of Successful Start-Ups\")\n",
    "plt.xlim(360,430)\n",
    "plt.xlabel(\"No of Successes\")\n",
    "plt.ylabel(\"P(x)\")\n",
    "# Plot the distribution from the previous example\n",
    "\n",
    "plt.plot(x,y, 'b')\n",
    "plt.show()"
   ]
  },
  {
   "cell_type": "markdown",
   "metadata": {},
   "source": [
    "Comparing this plot to the previous one demonstrates that the `numpy.random.binomial` function draws samples from the expected binomial distribution. \n",
    "\n",
    "Back to the problem, to determine the probability of the line starting correctly more than 400 times, the production manager can use the `numpy.random.binomial` function as follows:"
   ]
  },
  {
   "cell_type": "code",
   "execution_count": 43,
   "metadata": {},
   "outputs": [
    {
     "name": "stdout",
     "output_type": "stream",
     "text": [
      "The chance of getting at least 400 successful start ups is 19.8%\n"
     ]
    }
   ],
   "source": [
    "# Randomly select 10,000 data points from the binomial distriution using our paramaeters\n",
    "p = 0.90\n",
    "q = 1-p\n",
    "n = 438\n",
    "r = 400\n",
    "test_data = [np.random.binomial(n,p) for i in range(10000)]\n",
    "# Check the test data to see are the values over the threshold of r\n",
    "over_r = []\n",
    "for point in test_data:\n",
    "    if point >= r:\n",
    "        over_r.append(point)\n",
    "# Calculate the percentage over 425        \n",
    "perc_over_r = round(len(over_r)*100/len(test_data),2)  \n",
    "# print the results\n",
    "print(\"The chance of getting at least \" + str(r) + \" successful start ups is \" + str(perc_over_r) +\"%\")"
   ]
  },
  {
   "cell_type": "markdown",
   "metadata": {},
   "source": [
    "The production manager can now predit that there is about a 20% chance that the line will start up correctly on at least 400 occasions - he should probably contact the engineering manager and look at improveing the reliability of the line!"
   ]
  },
  {
   "cell_type": "markdown",
   "metadata": {},
   "source": [
    "### 5.4 Exponential Distribution\n",
    "\n",
    "The exponential distribution is commonly used in models concerened with intervals between events [8]. Common examples of exponentially distrubuted intervals would be:\n",
    "\n",
    "* Modelling the time between customers entering a shop\n",
    "* Modelling the human survival rates\n",
    "* Modelling failure rates of industrial machinery\n",
    "\n",
    "As a former reliability engineer, I have some experience of working with failure rates of industrial systems. A random variable `x` is said to be exponentially distributed with a probability density function `p(x)` defined as follows:\n",
    "\n",
    "$$\n",
    "(x) = {\\lambda} e ^ {- \\lambda x } \\qquad \\qquad x > 0,\n",
    "$$\n",
    "for $\\lambda > 0$, representing the rate. The actual meaning of the rate varies depending on the model, but for reliability engineering problems it usually represents the *failure rate*. Take the following as an example, a reliability engineer wants to predict what percentage of new pumps will last at least 1,000 hours before failing. He has data on 2,500 other such pumps that have all run for an average of 150 hours each with 75 pumps failing in operation so far.\n",
    "\n",
    "The first step is to calculate the failure rate for the problem:\n"
   ]
  },
  {
   "cell_type": "code",
   "execution_count": 44,
   "metadata": {},
   "outputs": [
    {
     "name": "stdout",
     "output_type": "stream",
     "text": [
      "The failure rate for these pumps is: 0.0002 pumps per hour\n"
     ]
    }
   ],
   "source": [
    "# Define the variables\n",
    "avg_run_time = 150\n",
    "no_of_units = 2500\n",
    "no_of_fails = 75\n",
    "\n",
    "# Calculate the failure rate, lam\n",
    "lam = no_of_fails/(avg_run_time * no_of_units) \n",
    "print(\"The failure rate for these pumps is: \" + str(lam) + \" pumps per hour\")"
   ]
  },
  {
   "cell_type": "markdown",
   "metadata": {},
   "source": [
    "Having the failure rate, allows us to plot the probability density function for the problem:"
   ]
  },
  {
   "cell_type": "code",
   "execution_count": 68,
   "metadata": {},
   "outputs": [
    {
     "data": {
      "image/png": "[encoded data removed]",
      "text/plain": [
       "<matplotlib.figure.Figure at 0x10ce86588>"
      ]
     },
     "metadata": {
      "needs_background": "light"
     },
     "output_type": "display_data"
    }
   ],
   "source": [
    "# The x-axis will represent time run in the range to 1,500 hours\n",
    "x = np.arange(1,(1501),1)\n",
    "y = [lam*math.exp((-lam*x[i]))  for i in range(len(x))]\n",
    "\n",
    "plt.title(\"Exponential Distribution\")\n",
    "plt.xlabel(\"Hours Run\")\n",
    "plt.ylabel(\"P(x) of Failiure\")\n",
    "plt.xlim(0,1500)\n",
    "plt.ylim(0.0001, 0.00021)\n",
    "plt.plot(x,y, 'b')\n",
    "plt.show()"
   ]
  },
  {
   "cell_type": "markdown",
   "metadata": {},
   "source": [
    "In order to draw a comparison, the `nump.random.exponential` function will be used to draw 10,000 samples in the same range. Note that in the pumps example I have chosen to use the *rate* parameter as it represent something physical with units in *hours*. The emponential function in numpy uses the inverse of this (know as the *shape* parameter). It is just a different way of representing the same distribution, and we just need to be aware of it and invert our rate parameter before calling the function."
   ]
  },
  {
   "cell_type": "code",
   "execution_count": 67,
   "metadata": {},
   "outputs": [
    {
     "data": {
      "image/png": "[encoded data removed]",
      "text/plain": [
       "<matplotlib.figure.Figure at 0x109e74f60>"
      ]
     },
     "metadata": {
      "needs_background": "light"
     },
     "output_type": "display_data"
    }
   ],
   "source": [
    "# note that p,q,n and r are defines in the previous example\n",
    "#select 10,000 items using binomial distribution with p and n taken from our problem \n",
    "data = [np.random.exponential((1/lam), 10000)]\n",
    "# Plot a histogram of the drawn samples\n",
    "plt.hist(data, color='red', density=True, bins=100)\n",
    "plt.title(\"Expontial Distribution of Pump Failure Times\")\n",
    "plt.xlim(0,1500)\n",
    "plt.ylim(0.0001, 0.00021)\n",
    "plt.xlabel(\"Hours Run\")\n",
    "plt.ylabel(\"P(x) of Failure\")\n",
    "# Plot the distribution from the previous example\n",
    "\n",
    "plt.plot(x,y, 'b')\n",
    "plt.show()"
   ]
  },
  {
   "cell_type": "markdown",
   "metadata": {},
   "source": [
    "Comparing this plot to the previous one demonstrates that the `numpy.random.exponential` function draws samples from the expected exponential distribution. \n",
    "\n",
    "Back to the problem, to determine the probability of a new pump lasting running without failure for at least 1000 hours, the reliability engineer can the `numpy.random.exponential` to simulate it as follows.\n",
    "\n",
    "1. Draw 10,000 samples from an exponential distribution using our defined failure rate\n",
    "1. Check each drawn sample to see is it greater than or equal too 1,000 hours\n",
    "1. Determine what percentage of the total are greater than or equal to 1,000 hours"
   ]
  },
  {
   "cell_type": "code",
   "execution_count": 69,
   "metadata": {},
   "outputs": [
    {
     "name": "stdout",
     "output_type": "stream",
     "text": [
      "The probability of a new pump lasting at least 1,000 hours 81.47%\n"
     ]
    }
   ],
   "source": [
    "# Randomly select 10,000 data points from the binomial distriution using our paramaeters\n",
    "pump_data = [np.random.exponential(1/lam) for i in range(10000)]\n",
    "# Check the test data to see are the values over the threshold of 1000\n",
    "over_1000 = []\n",
    "for point in pump_data:\n",
    "    if point >= 1000:\n",
    "        over_1000.append(point)\n",
    "# Calculate the percentage over 1000       \n",
    "perc_over_1000 = round(len(over_1000)*100/len(pump_data),2)  \n",
    "# print the results\n",
    "print(\"The probability of a new pump lasting at least 1,000 hours \" + str(perc_over_1000) +\"%\")"
   ]
  },
  {
   "cell_type": "markdown",
   "metadata": {},
   "source": [
    "Note, that one key assumption in using the the exponential distribution to simulate reliability problems is a that the failure rate is assumed constant. This means that a pump is as likely to fail on at installation time as it is after running for several thousand hours. While this assumption holds true for many engineering components, it is not true in all cases. The Weibull distribution is extremely useful for modelling problems with different failure rates and this will be discussed in the next section."
   ]
  },
  {
   "cell_type": "markdown",
   "metadata": {},
   "source": [
    "### 5.5 Weibull Distribution"
   ]
  },
  {
   "cell_type": "markdown",
   "metadata": {},
   "source": [
    "## 6. Pseudorandom Numbers"
   ]
  },
  {
   "cell_type": "markdown",
   "metadata": {},
   "source": [
    "### 6.1 Seeding of random numbers"
   ]
  },
  {
   "cell_type": "markdown",
   "metadata": {},
   "source": [
    "## 7. Discusion and Conclusion"
   ]
  },
  {
   "cell_type": "markdown",
   "metadata": {},
   "source": [
    "## References\n",
    "\n",
    "1. [1] Project Jupyter. Project Jupyter Home. (_https://www.jupyter.org/_)\n",
    "1. [2] Numpy Deveolpment Team. Numpy Random Sampling (nump.random) (_https://docs.scipy.org/doc/numpy-1.15.1/reference/routines.random.html_)\n",
    "1. [3] Dr. Ian McLoughlin. GMIT. Assignment 2018: Programming for Data Analysis (_https://github.com/ianmcloughlin/progda-assignment-2018/raw/master/assignment.pdf_)\n",
    "1. [4] Numpy Development Team. Numpy Home (_http://www.numpy.org_)\n",
    "1. [5] Machine Learning Plus. Numpy Tutorial Part 1. (_https://www.machinelearningplus.com/python/numpy-tutorial-part1-array-python-examples/_)\n",
    "1. [6] SciPy Development Team. Scipy Home (_https://www.scipy.org_)\n",
    "1. [7] Numpy Development Team. numpy.random.random_integers(_https://docs.scipy.org/doc/numpy-1.13.0/reference/generated/numpy.random.random_integers.html#numpy.random.random_integers)  \n",
    "1. [8] Analytics Vidhya. 6 Common Probability Distributions every data science professional should know (_https://www.analyticsvidhya.com/blog/2017/09/6-probability-distributions-data-science/_)\n",
    "1. [9] Wikipedia. List of average human height worldwide (_https://en.wikipedia.org/wiki/List_of_average_human_height_worldwide_)\n",
    "1. [10] Stack Exchange. What is the standard deviation of adult human heights for males and females? (_https://biology.stackexchange.com/questions/9730/what-is-the-standard-deviation-of-adult-human-heights-for-males-and-females_)\n",
    "1. [11] Stat Trek. Binomial Probability Distribution (https://stattrek.com/probability-distributions/binomial.aspx\n",
    "1. [12] Project Maths. Module 5 (https://www.projectmaths.ie/documents/modulars/1/Module5Presentation.pdf)"
   ]
  },
  {
   "cell_type": "markdown",
   "metadata": {},
   "source": [
    "# DONT FORGET TO UPDATE THE README.md FILE!!"
   ]
  },
  {
   "cell_type": "code",
   "execution_count": null,
   "metadata": {},
   "outputs": [],
   "source": []
  }
 ],
 "metadata": {
  "kernelspec": {
   "display_name": "Python 3",
   "language": "python",
   "name": "python3"
  },
  "language_info": {
   "codemirror_mode": {
    "name": "ipython",
    "version": 3
   },
   "file_extension": ".py",
   "mimetype": "text/x-python",
   "name": "python",
   "nbconvert_exporter": "python",
   "pygments_lexer": "ipython3",
   "version": "3.6.6"
  }
 },
 "nbformat": 4,
 "nbformat_minor": 2
}
