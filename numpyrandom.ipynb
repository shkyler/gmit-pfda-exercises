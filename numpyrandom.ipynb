{
 "cells": [
  {
   "cell_type": "markdown",
   "metadata": {},
   "source": [
    "<p align=\"center\">\n",
    "  <img src=\"img/GMITLOGO.jpg\" width=\"500px\" height=\"200px\"/></p>"
   ]
  },
  {
   "cell_type": "markdown",
   "metadata": {},
   "source": [
    "# GMIT, H.Dip in Data Analytics, Progamming for Data Analysis Assignment 2018"
   ]
  },
  {
   "cell_type": "markdown",
   "metadata": {},
   "source": [
    "## 1. Introduction\n",
    "\n",
    "This repository contains all of the files pertaining to my 2018 assignment submission for the Programming for Data Analysis module of the GMIT H.Dip program in Data Analytics. All of the work within this repository was carried out over the course of a 4 week period in October and November 2018. This Jupyter notebook [1] contains the complete documentation for the project."
   ]
  },
  {
   "cell_type": "markdown",
   "metadata": {},
   "source": [
    "### 1.1 Project objective\n",
    "\n",
    "The objective of this assignment is to carryout some research into the numpy.random package in Python [2]. As part of the work there is a requirement to investigate some of the functions in the package and summarise how and why they are used. This can be done by writing some scripts to demonstrate them. The problem statement for the assignment is follows[3]:\n",
    "\n",
    "1. Explain the overall purpose of the (numpy.random) package.\n",
    "1. Explain the use of the “Simple random data” and “Permutations” functions.\n",
    "1. Explain the use and purpose of at least five “Distributions” functions.\n",
    "1. Explain the use of seeds in generating pseudorandom numbers."
   ]
  },
  {
   "cell_type": "markdown",
   "metadata": {},
   "source": [
    "## 2. The numpy.random package in Python\n",
    "\n"
   ]
  },
  {
   "cell_type": "markdown",
   "metadata": {},
   "source": [
    "### 2.1 Introduction to numpy\n",
    "\n",
    "According to the numpy documentation, \"NumPy is a Python extension module that provides efficient operation on arrays of homogeneous data\"[4]. What this means, is that numpy is a add-on package for Python that is not included as part of the standard library. It provides functionality for users to create multi-dimensional arrays of data and manipulate them using Python. The data in the arrays must be of the same type. Some of the benfits of using numpy are:\n",
    "\n",
    "1. It is free to use and open source, so it might be more attractive than propietry alternatives such as MATLAB\n",
    "1. The homogenous data stored in the arrays does not have to checked for \"type\" during operations making operations more efficient\n",
    "1. Numpy arrays are \"vectorised\"[5] - this means operations applied to the array are applied to each item in it. What this means is that an array can be say mulitplied by 2 and each item in the array will be mulplied by 2. Multiplying a list by 2 would yield an error!\n",
    "1. Another characteristic of arrays is that one they are initialised the size and shape cannot be changed[5] - this is desirable in some applications.\n",
    "\n",
    "Numpy is developed and maintained by SciPy community[6]. It is just one tool in the SciPy ecosystem. Other tools include:\n",
    "* Jupyter notebooks\n",
    "* IPython\n",
    "* Pandas\n",
    "* Matplotlib\n",
    "* The SciPy library\n",
    "\n",
    "All of the above packages are installed as part of the Anaconda distribution of Python."
   ]
  },
  {
   "cell_type": "markdown",
   "metadata": {},
   "source": [
    "### 2.2 Introduction to numpy.random\n",
    "\n",
    "Numpy.random is a sub-package of the numpy extension in Python. It provides fuctionality to allow the generation of random data. This is useful in many scenarios such as desiging and running simulations. According to the official documentation[2], there are four main sections in the package, each filled with many functions. These sections are:\n",
    "* Simple Random Data\n",
    "* Permutations\n",
    "* Distributions\n",
    "* Random Generator\n",
    "\n",
    "Each of the functions provides options for creating arrays with random data and depending on the function chosen and the arguments passed, a user can determine:\n",
    "* Size and shape of the array\n",
    "* Data type for the array\n",
    "* Range of data in the array\n",
    "* Distribution of data in the array\n",
    "\n",
    "The remainder of this notebook will look at some of the functions in each of the four sections, and explain their use by way of code demonstrations.\n"
   ]
  },
  {
   "cell_type": "markdown",
   "metadata": {},
   "source": [
    "## 3. Simple Random Data Function\n",
    "\n",
    "In this section, the simple random data functions will be discussed and explained using the numpy.random documentation [2] as a guide. Before beginnig the code demonstrations the required libraries for this notebook are imported"
   ]
  },
  {
   "cell_type": "code",
   "execution_count": 2,
   "metadata": {},
   "outputs": [],
   "source": [
    "# Import Libraries\n",
    "import numpy as np\n",
    "import matplotlib.pyplot as plt"
   ]
  },
  {
   "cell_type": "markdown",
   "metadata": {},
   "source": [
    "### 3.1 Generating an array of random floats using numpy.random.rand()\n",
    "\n",
    "This function allows the user to create an array of floating point numbers whose values are in the range between 0 and 1 - where 0 is included and 1 isn't. This is also known as a *half open interval* denoted by `[0,1)`. \n",
    "* The values in the array are uniformly chosen - so each value is a likely to be picked as any other. \n",
    "* The function will allow the user to pass any number of integer arguments, eack one representing the lenght of a\n",
    "dimension for the array. \n",
    "* If the function is called with no arguments, it return a single float. \n",
    "This function is demonstrated below:"
   ]
  },
  {
   "cell_type": "code",
   "execution_count": 3,
   "metadata": {},
   "outputs": [
    {
     "name": "stdout",
     "output_type": "stream",
     "text": [
      "[[ 0.06642736  0.29272333]\n",
      " [ 0.64193243  0.86473632]\n",
      " [ 0.21548537  0.69505037]]\n"
     ]
    }
   ],
   "source": [
    "# Create a random 3 x 2 array and print it out\n",
    "a_array = np.random.rand(3,2)\n",
    "print(a_array)"
   ]
  },
  {
   "cell_type": "markdown",
   "metadata": {},
   "source": [
    "As expected the function created a 3 x 2 array, filled with random floats whose values are greater than or equal to zero and less than 1. Next the function will be called with no arguments"
   ]
  },
  {
   "cell_type": "code",
   "execution_count": 4,
   "metadata": {},
   "outputs": [
    {
     "name": "stdout",
     "output_type": "stream",
     "text": [
      "0.44316406539319797\n"
     ]
    }
   ],
   "source": [
    "# Call the rand() function with no arguments and print it out\n",
    "a_single = np.random.rand()\n",
    "print(a_single)"
   ]
  },
  {
   "cell_type": "markdown",
   "metadata": {},
   "source": [
    "As expected a single float with a value between 0 and 1 was created. The next thing to demonstrate is the distribution of values from the function. "
   ]
  },
  {
   "cell_type": "code",
   "execution_count": 5,
   "metadata": {},
   "outputs": [
    {
     "data": {
      "image/png": "[encoded data removed]",
      "text/plain": [
       "<matplotlib.figure.Figure at 0x1088c7208>"
      ]
     },
     "metadata": {
      "needs_background": "light"
     },
     "output_type": "display_data"
    }
   ],
   "source": [
    "# Create a list by calling the fuction 10,000 times\n",
    "a_dist = [np.random.rand() for i in range(10000)]\n",
    "# Plot a histogram of the 10,000 values to visualise the spread\n",
    "plt.hist(a_dist, color=\"blue\")\n",
    "plt.show()"
   ]
  },
  {
   "cell_type": "markdown",
   "metadata": {},
   "source": [
    "The function has selected the 10,000 items in such a way that approx 1/10 of them fall into each of the ten bins in the histogram - they are uniformly distributed"
   ]
  },
  {
   "cell_type": "markdown",
   "metadata": {},
   "source": [
    "### 3.2 Generating an array of random floats using numpy.random.randn()\n",
    "\n",
    "This function allows the user to create an array of floating point numbers whose values are in the  *half open interval* `[0,1)`. \n",
    "* The values in the array are chosen from the *standard normal distribution* which is a special case of the normal distriution where the mean is 0 and the standard deviation is 1. This means that the values are more likely to occur close to 0, and that most values will be in the range `[-3,3]` according to the empirical rule which states that 99.7% of the numbers should fall between +/- 3 standard deviations from the mean.\n",
    "* The function will allow the user to pass any number of integer arguments, eack one representing the lenght of a dimension for the array. \n",
    "* If the function is called with no arguments, it return a single float. \n",
    "This function is demonstrated below:"
   ]
  },
  {
   "cell_type": "code",
   "execution_count": 6,
   "metadata": {},
   "outputs": [
    {
     "name": "stdout",
     "output_type": "stream",
     "text": [
      "[[-1.45486673  1.02697381]\n",
      " [ 0.05653238  1.44202006]\n",
      " [ 1.30924343  0.95382731]]\n"
     ]
    }
   ],
   "source": [
    "# Create a random 3 x 2 array and print it out\n",
    "b_array = np.random.randn(3,2)\n",
    "print(b_array)"
   ]
  },
  {
   "cell_type": "markdown",
   "metadata": {},
   "source": [
    "The function has created a 3 x 2 array of random numbers. Calling the function without any arguemnts should return a single float:"
   ]
  },
  {
   "cell_type": "code",
   "execution_count": 7,
   "metadata": {},
   "outputs": [
    {
     "name": "stdout",
     "output_type": "stream",
     "text": [
      "0.32699444338779865\n"
     ]
    }
   ],
   "source": [
    "# Call the randn() function with no arguments and print it\n",
    "b_single = np.random.randn()\n",
    "print(b_single)"
   ]
  },
  {
   "cell_type": "markdown",
   "metadata": {},
   "source": [
    "To demonstrate the distribution of the values selected by this function, a list is defined by calling the function 10,000 times. A histogram will be used to visualise the spread of values. Values close to zero should have a higher probability of being selected, with the probability falling away as the values move towards -3 and 3."
   ]
  },
  {
   "cell_type": "code",
   "execution_count": 8,
   "metadata": {},
   "outputs": [
    {
     "data": {
      "text/plain": [
       "<function matplotlib.pyplot.show(*args, **kw)>"
      ]
     },
     "execution_count": 8,
     "metadata": {},
     "output_type": "execute_result"
    },
    {
     "data": {
      "image/png": "[encoded data removed]",
      "text/plain": [
       "<matplotlib.figure.Figure at 0x1088c7240>"
      ]
     },
     "metadata": {
      "needs_background": "light"
     },
     "output_type": "display_data"
    }
   ],
   "source": [
    "# Call the function 10,000 times and create a list of the values it returns\n",
    "b_dist = [np.random.randn() for i in range(10000)]\n",
    "# Plot a histogram to visulise the distribution\n",
    "plt.hist(b_dist, color=\"red\")\n",
    "plt.show"
   ]
  },
  {
   "cell_type": "markdown",
   "metadata": {},
   "source": [
    "This demonstrates that the while both rand() and randn() are called in the same manner using the same types of arguments to return the same size arrays, there is a vast difference between the two functions regarding the manner in which they select the *\"random\"* values to return"
   ]
  },
  {
   "cell_type": "markdown",
   "metadata": {},
   "source": [
    "### 3.3 Generating an array of random floats using numpy.random.random sample\n",
    "\n",
    "There is one other function for generating random floats in the package - numpy.random.random_sample. This function works exactly like rand(), with only differnce being that instead of passing integers as the size arguments, this function takes a single tuple as an argument. This is demonstrated as follows:"
   ]
  },
  {
   "cell_type": "code",
   "execution_count": 9,
   "metadata": {},
   "outputs": [
    {
     "name": "stdout",
     "output_type": "stream",
     "text": [
      "[[ 0.68495101  0.91749004]\n",
      " [ 0.55015759  0.85777622]\n",
      " [ 0.85533175  0.48568411]\n",
      " [ 0.64789603  0.82849473]]\n"
     ]
    }
   ],
   "source": [
    "# Define the size tuple for a 4 x 2 array\n",
    "array_size = (4,2)\n",
    "# Create a random 4 x 2 array and print it out\n",
    "c_array = np.random.random_sample(array_size)\n",
    "print(c_array)"
   ]
  },
  {
   "cell_type": "code",
   "execution_count": 10,
   "metadata": {},
   "outputs": [
    {
     "name": "stdout",
     "output_type": "stream",
     "text": [
      "0.03524572793375702\n"
     ]
    }
   ],
   "source": [
    "# A single float can be returned by passing an empty tuple\n",
    "array_size = ()\n",
    "c_array = np.random.random_sample(array_size)\n",
    "print(c_array)"
   ]
  },
  {
   "cell_type": "markdown",
   "metadata": {},
   "source": [
    "As with the rand() function, random numbers are generated from a uniform distribution, this is demonstarted below:"
   ]
  },
  {
   "cell_type": "code",
   "execution_count": 11,
   "metadata": {},
   "outputs": [
    {
     "data": {
      "text/plain": [
       "<function matplotlib.pyplot.show(*args, **kw)>"
      ]
     },
     "execution_count": 11,
     "metadata": {},
     "output_type": "execute_result"
    },
    {
     "data": {
      "image/png": "[encoded data removed]",
      "text/plain": [
       "<matplotlib.figure.Figure at 0x1128fe898>"
      ]
     },
     "metadata": {
      "needs_background": "light"
     },
     "output_type": "display_data"
    }
   ],
   "source": [
    "# Call the function 10,000 times and create a list of the values it returns\n",
    "c_dist = [np.random.random_sample() for i in range(10000)]\n",
    "# Plot a histogram to visulise the distribution\n",
    "plt.hist(c_dist, color=\"pink\")\n",
    "plt.show"
   ]
  },
  {
   "cell_type": "markdown",
   "metadata": {},
   "source": [
    "The difference between random_sample() and random is subltle but could be important in certain applications. For eaxample if ther is a function that returns a tuple, this funtions be be passed as the argument without need for conversion. \n",
    "\n",
    "There are 3 other functions that are actually aliased of the random_sample() function. These functions are:\n",
    "* numpy.random.random()\n",
    "* numpy.random.ranf()\n",
    "* numpy.random.sample()\n",
    "\n",
    "Their inclusion in the numpy package is most likely due to the fact that other programming languages have these functions in them and it makes it easier for users of those languages to *'convert'* to Python. It can be demonstrated that these are aliases by calling them with parentheses:"
   ]
  },
  {
   "cell_type": "code",
   "execution_count": 12,
   "metadata": {},
   "outputs": [
    {
     "data": {
      "text/plain": [
       "<function RandomState.random_sample>"
      ]
     },
     "execution_count": 12,
     "metadata": {},
     "output_type": "execute_result"
    }
   ],
   "source": [
    "# Proof random() is an alias for random_sample()\n",
    "np.random.random"
   ]
  },
  {
   "cell_type": "code",
   "execution_count": 13,
   "metadata": {},
   "outputs": [
    {
     "data": {
      "text/plain": [
       "<function RandomState.random_sample>"
      ]
     },
     "execution_count": 13,
     "metadata": {},
     "output_type": "execute_result"
    }
   ],
   "source": [
    "# Proof ranf() is an alias for random_sample()\n",
    "np.random.ranf"
   ]
  },
  {
   "cell_type": "code",
   "execution_count": 14,
   "metadata": {},
   "outputs": [
    {
     "data": {
      "text/plain": [
       "<function RandomState.random_sample>"
      ]
     },
     "execution_count": 14,
     "metadata": {},
     "output_type": "execute_result"
    }
   ],
   "source": [
    "# Proof sample() is an alias for random_sample()\n",
    "np.random.sample"
   ]
  },
  {
   "cell_type": "markdown",
   "metadata": {},
   "source": [
    "In each case it is demonstarted that the function simply calls the random_sample() function."
   ]
  },
  {
   "cell_type": "markdown",
   "metadata": {},
   "source": [
    "### 3.4 Generating an array of random integers using numpy.random.randint()\n",
    "\n",
    "In this section the randint() function for generating random integers is demonstrated. randint() takes at least one argument, and returns a random integer from the uniform distribution as follows:\n",
    "* If only one argument is passed - it must be of type integer, the function will return an random integer in the range 0 to the argument (inclusive of zero but not the argument)\n",
    "* If 2 arguments are passed - they must be of type integer, the function will return a random integer in the range between the 2 arguments (inclusive of the low value but not the high value)\n",
    "* A third argument can be passed - a tuple to represent the size of an array to be returned filed with random integers from the range between the arguments passed (inclusive of the low value but not the high value)\n",
    "\n",
    "Each of these cases are demonstrated below:"
   ]
  },
  {
   "cell_type": "code",
   "execution_count": 15,
   "metadata": {},
   "outputs": [
    {
     "name": "stdout",
     "output_type": "stream",
     "text": [
      "0\n"
     ]
    }
   ],
   "source": [
    "# Generate a random integer by passing just 1 argument, then print the value\n",
    "d_sing = np.random.randint(10)\n",
    "print(d_sing)"
   ]
  },
  {
   "cell_type": "markdown",
   "metadata": {},
   "source": [
    "As expected, the function returned a random integer in the range 0 to 9 inclusive."
   ]
  },
  {
   "cell_type": "code",
   "execution_count": 16,
   "metadata": {},
   "outputs": [
    {
     "name": "stdout",
     "output_type": "stream",
     "text": [
      "77\n"
     ]
    }
   ],
   "source": [
    "# Generate a random integer in a specified range by passing 2 ingegers, then print value\n",
    "d_doub = np.random.randint(-3,100)\n",
    "print(d_doub)"
   ]
  },
  {
   "cell_type": "markdown",
   "metadata": {},
   "source": [
    "As expected the function returned a random integer in the range -3 to 99 inclusive. Next the function will be rcall with a size agrument passed to return an array."
   ]
  },
  {
   "cell_type": "code",
   "execution_count": 17,
   "metadata": {},
   "outputs": [
    {
     "name": "stdout",
     "output_type": "stream",
     "text": [
      "[[15 46]\n",
      " [91 62]\n",
      " [83 19]]\n"
     ]
    }
   ],
   "source": [
    "# Generate an array (of specified size) of random integers, in a specified range\n",
    "d_array = np.random.randint(-3,100,(3,2))\n",
    "print(d_array)"
   ]
  },
  {
   "cell_type": "markdown",
   "metadata": {},
   "source": [
    "As expected, the function returned a 3 x 2 array of integers, all of which are in the range -3 to 99 inclusive. \n",
    "\n",
    "The distribution from which the function selects the data can be demonstrated by running the function 10,000 times and plotting a histogram of the results:"
   ]
  },
  {
   "cell_type": "code",
   "execution_count": 18,
   "metadata": {},
   "outputs": [
    {
     "data": {
      "image/png": "[encoded data removed]",
      "text/plain": [
       "<matplotlib.figure.Figure at 0x112abf940>"
      ]
     },
     "metadata": {
      "needs_background": "light"
     },
     "output_type": "display_data"
    }
   ],
   "source": [
    "# Create a list filled with 10,000 random integers generated unit randint()\n",
    "# Select a value between 0 and 9 (inclusive) 10,000\n",
    "d_dist = [np.random.randint(10) for i in range(10000)]\n",
    "plt.hist(d_dist, color=\"green\")\n",
    "plt.show()"
   ]
  },
  {
   "cell_type": "markdown",
   "metadata": {},
   "source": [
    "The histogram demonstrates that the function returns uniformly distributed values as there are approximatley 1000 numbers in each of the 10 histogram bins. Note that the histogram only displays values in the range 0 to 9.\n",
    "\n",
    "There is another function called numpy.random.randon_integers() that can be called to generate random integers. According to the numpy.random documentation[7] this function has been deprecated, and randint() should be used instead\n"
   ]
  },
  {
   "cell_type": "markdown",
   "metadata": {},
   "source": [
    "### 3.5 Selecting a random item from a list using the choice() function.\n",
    "\n",
    "There is one more interesting function in the \"Simple Random Data\" section. It is the choice() function that will randomly select an option from a given list. This function can be demonstrated with a simple list of 8 colours as follows:"
   ]
  },
  {
   "cell_type": "code",
   "execution_count": 19,
   "metadata": {},
   "outputs": [
    {
     "name": "stdout",
     "output_type": "stream",
     "text": [
      "black\n"
     ]
    }
   ],
   "source": [
    "# Create a list of colours\n",
    "colours = [\"red\", \"green\", \"blue\", \"yellow\", \"orange\", \"black\", \"purple\",\"brown\"]\n",
    "# Use the choice() funtion to pick one colour at random and print it\n",
    "pick = np.random.choice(colours)\n",
    "print(pick)"
   ]
  },
  {
   "cell_type": "markdown",
   "metadata": {},
   "source": [
    "It is also possible to pick a return an array of selctions from the list, this is done by using the *keyword argument* size to pass an array size to the function"
   ]
  },
  {
   "cell_type": "code",
   "execution_count": 20,
   "metadata": {},
   "outputs": [
    {
     "name": "stdout",
     "output_type": "stream",
     "text": [
      "[['black' 'yellow']\n",
      " ['green' 'green']\n",
      " ['orange' 'blue']\n",
      " ['black' 'purple']]\n"
     ]
    }
   ],
   "source": [
    "# Define the size of the array required\n",
    "pick_size = (4,2)\n",
    "# pick an array of colurs and print it\n",
    "pick_array = np.random.choice(colours, size=pick_size)\n",
    "print(pick_array)"
   ]
  },
  {
   "cell_type": "markdown",
   "metadata": {},
   "source": [
    "It is also possible to state whether or not selected items should be replaced between selections in to the returned array. The default is set to replace them. If the \"Replace\"keyword argument is set to false, items will not be replaced but the maximum sise of the returned array (the size defined by *pick_size* tuple in our example) cannot exceed the total number of items allowed for selections (i.e. the lenght of *colours* in our example)"
   ]
  },
  {
   "cell_type": "code",
   "execution_count": 21,
   "metadata": {},
   "outputs": [
    {
     "name": "stdout",
     "output_type": "stream",
     "text": [
      "[['yellow' 'black']\n",
      " ['blue' 'orange']\n",
      " ['brown' 'green']\n",
      " ['purple' 'red']]\n"
     ]
    }
   ],
   "source": [
    "# Define the size of the array required\n",
    "pick_size = (4,2)\n",
    "# pick an array of colurs and print it\n",
    "pick_array = np.random.choice(colours, size=pick_size, replace=False)\n",
    "print(pick_array)"
   ]
  },
  {
   "cell_type": "markdown",
   "metadata": {},
   "source": [
    "Finally a note on the distribution of the selections. By default the items are selected uniformly, this can be demonstrated through the followinf simulation:"
   ]
  },
  {
   "cell_type": "code",
   "execution_count": 22,
   "metadata": {},
   "outputs": [
    {
     "data": {
      "image/png": "[encoded data removed]",
      "text/plain": [
       "<matplotlib.figure.Figure at 0x112a167b8>"
      ]
     },
     "metadata": {
      "needs_background": "light"
     },
     "output_type": "display_data"
    }
   ],
   "source": [
    "# Call the fuction 10,000 times and plot the histogram\n",
    "pick_dist=[np.random.choice(colours) for i in range (10000)]\n",
    "plt.hist(pick_dist, color=\"blue\")\n",
    "plt.show()"
   ]
  },
  {
   "cell_type": "markdown",
   "metadata": {},
   "source": [
    "This demonstrates that all 8 colours in the the original list have an approximately equal chance of being picked by default. It is possible to *load* the selections by passing a proability keyword argument, p. The following must hold for p:\n",
    "* p must be a tuple of floating point numbers, the same lenght as the original list (*colours* in this example)\n",
    "* The total sum of all the floats in *p* must equal 1\n",
    "* The first item in p represents the probability of the first item in the original list (*colours*) being picked\n",
    "* The second item in p represents the second item in *colours* etc.\n",
    "This functionality is demonstrated below:"
   ]
  },
  {
   "cell_type": "code",
   "execution_count": 23,
   "metadata": {},
   "outputs": [
    {
     "data": {
      "image/png": "[encoded data removed]",
      "text/plain": [
       "<matplotlib.figure.Figure at 0x112af0eb8>"
      ]
     },
     "metadata": {
      "needs_background": "light"
     },
     "output_type": "display_data"
    }
   ],
   "source": [
    "# Redefine \"colours\" for clarity\n",
    "colours = [\"red\", \"green\", \"blue\", \"yellow\", \"orange\", \"black\", \"purple\",\"brown\"]\n",
    "# Make red 3 times more likely to be picked than the others using a tuple\n",
    "prob = (0.3, 0.1, 0.1, 0.1, 0.1, 0.1, 0.1, 0.1)\n",
    "pick_dist=[np.random.choice(colours,p=(prob)) for i in range (10000)]\n",
    "plt.hist(pick_dist, color=\"red\")\n",
    "plt.show()"
   ]
  },
  {
   "cell_type": "markdown",
   "metadata": {},
   "source": [
    "As expected \"red\" was selcted about 3 times more often (3000 time in total) than the other colours which were all selected with about the same frequecy (about 1000 times each)."
   ]
  },
  {
   "cell_type": "markdown",
   "metadata": {},
   "source": [
    "## 4. Permutation Function\n",
    "\n",
    "In this section the Permutations functions within the numpy.random package are investigated. There are 2 functions in this section. These are \n",
    "* shuffle()\n",
    "* permutations()\n",
    "\n",
    "The 2 functions are similar, but there is a subtle difference between them. shuffle() takes a list as an input and shuffles the contents of the list in place, and by doing so changes the original list. permutation() takes a list as an input and returns a different permutation of the same list - without changing the arrangement of the original list. Each function will be demonstrated in turn."
   ]
  },
  {
   "cell_type": "markdown",
   "metadata": {},
   "source": [
    "### 4.1 numpy.random.shuffle()\n",
    "\n",
    "This sections will look at the mechanics of the shuffle function in numpy.random."
   ]
  },
  {
   "cell_type": "code",
   "execution_count": 25,
   "metadata": {},
   "outputs": [
    {
     "name": "stdout",
     "output_type": "stream",
     "text": [
      "['orange', 'brown', 'blue', 'purple', 'red', 'yellow', 'green', 'black']\n"
     ]
    }
   ],
   "source": [
    "# Create a list of colours\n",
    "colours = [\"red\", \"green\", \"blue\", \"yellow\", \"orange\", \"black\", \"purple\",\"brown\"]\n",
    "# Use the shuffle() function to re-arrange them and print\n",
    "np.random.shuffle(colours)\n",
    "print(colours)"
   ]
  },
  {
   "cell_type": "markdown",
   "metadata": {},
   "source": [
    "This demonstrates that the shuffle() function actually changes the list that was inputed, as after we run the shuffle fuction, printing the *colours* list returns a new order.\n",
    "\n",
    "Something else to aware of with the shuffle() function, it can be used on multi-dimension arrays but it only shuffles along the first dimension. Items in the other dimensions will remain in the original locations. "
   ]
  },
  {
   "cell_type": "code",
   "execution_count": 28,
   "metadata": {},
   "outputs": [
    {
     "name": "stdout",
     "output_type": "stream",
     "text": [
      "[[2 3 2 9 7]\n",
      " [5 0 6 1 9]\n",
      " [3 5 3 5 6]\n",
      " [3 2 6 4 8]]\n"
     ]
    }
   ],
   "source": [
    "# create a 4 x 5 array of random integers between 0 and 9\n",
    "array = np.random.randint(0,10,(4,5))\n",
    "# print the original array\n",
    "print(array)"
   ]
  },
  {
   "cell_type": "markdown",
   "metadata": {},
   "source": [
    "Now this array is shuffled"
   ]
  },
  {
   "cell_type": "code",
   "execution_count": 30,
   "metadata": {},
   "outputs": [
    {
     "name": "stdout",
     "output_type": "stream",
     "text": [
      "[[5 0 6 1 9]\n",
      " [3 2 6 4 8]\n",
      " [3 5 3 5 6]\n",
      " [2 3 2 9 7]]\n"
     ]
    }
   ],
   "source": [
    "# shuffle the array and print it\n",
    "np.random.shuffle(array)\n",
    "print(array)"
   ]
  },
  {
   "cell_type": "markdown",
   "metadata": {},
   "source": [
    "Notice how the order of the rows has changes but not the order of the items in each row."
   ]
  },
  {
   "cell_type": "markdown",
   "metadata": {},
   "source": [
    "### 4.2 numpy.random.permutation()\n",
    "\n",
    "As stated, pernutation is similar to shuffle with a suble difference being that while shuffle() changes the original list, permutation does not."
   ]
  },
  {
   "cell_type": "code",
   "execution_count": 31,
   "metadata": {},
   "outputs": [
    {
     "name": "stdout",
     "output_type": "stream",
     "text": [
      "['red', 'green', 'blue', 'yellow', 'orange', 'black', 'purple', 'brown']\n"
     ]
    }
   ],
   "source": [
    "# Define a list of colours and print\n",
    "colours = [\"red\", \"green\", \"blue\", \"yellow\", \"orange\", \"black\", \"purple\",\"brown\"]\n",
    "print(colours)"
   ]
  },
  {
   "cell_type": "markdown",
   "metadata": {},
   "source": [
    "Using the permutation function will return a shuffled array"
   ]
  },
  {
   "cell_type": "code",
   "execution_count": 32,
   "metadata": {},
   "outputs": [
    {
     "name": "stdout",
     "output_type": "stream",
     "text": [
      "['green' 'red' 'yellow' 'purple' 'black' 'blue' 'brown' 'orange']\n"
     ]
    }
   ],
   "source": [
    "# permutation() returns a shuffled array\n",
    "print(np.random.permutation(colours))"
   ]
  },
  {
   "cell_type": "markdown",
   "metadata": {},
   "source": [
    "Note that the original list *colours* is unchanged by the operations"
   ]
  },
  {
   "cell_type": "code",
   "execution_count": 33,
   "metadata": {},
   "outputs": [
    {
     "name": "stdout",
     "output_type": "stream",
     "text": [
      "['red', 'green', 'blue', 'yellow', 'orange', 'black', 'purple', 'brown']\n"
     ]
    }
   ],
   "source": [
    "# print the original list\n",
    "print(colours)"
   ]
  },
  {
   "cell_type": "markdown",
   "metadata": {},
   "source": [
    "## 5. Distributions\n",
    "\n",
    "numpy.random provides functionality to the user to generate randon numbers. These random numbers have many use cases, especially in the world of simulation. In this case, a user might choose to generate some random data in order to test or demonstrate a theory. One of the things to bear in mind, however, is that that all simulations are not the same. Most people would probably believe that \"random numbers\" should be drawn with each equal likelihood that each number in the specified range could be selected. In real life, this is not the case. Depending on the simulation carried out, the analyst might need the random data to be chosen in such a way that some numbers have a higher probability of being chosen than others. In other words that the probilities for each number being drawn are _distrubuted_. Some use cases of different probability distributions would be:\n",
    " * modelling times to failure of engineering components\n",
    " * predicting likelyhood of a successful oil exploration\n",
    " * designing ergonomics into daily life\n",
    " * forcasting sales data\n",
    "\n",
    "In each of these cases, different random data is required to properly simulate the characteristics of the model. There are many different ditribution models available in the np.random package and some of these will be looked at in this section."
   ]
  },
  {
   "cell_type": "markdown",
   "metadata": {},
   "source": [
    "### 5.1 Uniform Distribution\n",
    "\n",
    "When most people think of random number generation, they think of uniformly ditributed numbers. It this case each number in the range has equal likelyhood of being drawn. The `numpy.random` function for this purpose is the `uniform` distribution. It is a contiuous distribution so the values drawn are floats. \n",
    "A real life example of how this might be used is for daily sales forecast in the retail sector. The analyst might have idea of what the minimum and maximum daily sales figures could be, and then use random numbers drawn from a uniform distribution to help model a sales forecast. The probability density function for the uniform distribution is: "
   ]
  },
  {
   "cell_type": "markdown",
   "metadata": {},
   "source": [
    "### 5.2 Normal Distribution"
   ]
  },
  {
   "cell_type": "markdown",
   "metadata": {},
   "source": [
    "### 5.3 Binomial Distribution"
   ]
  },
  {
   "cell_type": "markdown",
   "metadata": {},
   "source": [
    "### 5.4 Weibull Distribution"
   ]
  },
  {
   "cell_type": "markdown",
   "metadata": {},
   "source": [
    "### 5.5 Power Distribution"
   ]
  },
  {
   "cell_type": "markdown",
   "metadata": {},
   "source": [
    "## 6. Pseudorandom Numbers"
   ]
  },
  {
   "cell_type": "markdown",
   "metadata": {},
   "source": [
    "### 6.1 Seeding of random numbers"
   ]
  },
  {
   "cell_type": "markdown",
   "metadata": {},
   "source": [
    "## 7. Discusion and Conclusion"
   ]
  },
  {
   "cell_type": "markdown",
   "metadata": {},
   "source": [
    "## References\n",
    "\n",
    "1. [1] Project Jupyter. Project Jupyter Home. (_https://www.jupyter.org/_)\n",
    "1. [2] Numpy Deveolpment Team. Numpy Random Sampling (nump.random) (_https://docs.scipy.org/doc/numpy-1.15.1/reference/routines.random.html_)\n",
    "1. [3] Dr. Ian McLoughlin. GMIT. Assignment 2018: Programming for Data Analysis (_https://github.com/ianmcloughlin/progda-assignment-2018/raw/master/assignment.pdf_)\n",
    "1. [4] Numpy Development Team. Numpy Home (_http://www.numpy.org_)\n",
    "1. [5] Machine Learning Plus. Numpy Tutorial Part 1. (_https://www.machinelearningplus.com/python/numpy-tutorial-part1-array-python-examples/_)\n",
    "1. [6] SciPy Development Team. Scipy Home (_https://www.scipy.org_)\n",
    "1. [7] Numpy Development Team. numpy.random.random_integers(_https://docs.scipy.org/doc/numpy-1.13.0/reference/generated/numpy.random.random_integers.html#numpy.random.random_integers)"
   ]
  },
  {
   "cell_type": "markdown",
   "metadata": {},
   "source": [
    "# DONT FORGET TO UPDATE THE README.md FILE!!"
   ]
  },
  {
   "cell_type": "code",
   "execution_count": null,
   "metadata": {},
   "outputs": [],
   "source": []
  }
 ],
 "metadata": {
  "kernelspec": {
   "display_name": "Python 3",
   "language": "python",
   "name": "python3"
  },
  "language_info": {
   "codemirror_mode": {
    "name": "ipython",
    "version": 3
   },
   "file_extension": ".py",
   "mimetype": "text/x-python",
   "name": "python",
   "nbconvert_exporter": "python",
   "pygments_lexer": "ipython3",
   "version": "3.6.6"
  }
 },
 "nbformat": 4,
 "nbformat_minor": 2
}
