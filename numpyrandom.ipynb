{
 "cells": [
  {
   "cell_type": "markdown",
   "metadata": {},
   "source": [
    "<p align=\"center\">\n",
    "  <img src=\"img/GMITLOGO.jpg\" width=\"500px\" height=\"200px\"/></p>"
   ]
  },
  {
   "cell_type": "markdown",
   "metadata": {},
   "source": [
    "# GMIT, H.Dip in Data Analytics, Progamming for Data Analysis Assignment 2018"
   ]
  },
  {
   "cell_type": "markdown",
   "metadata": {},
   "source": [
    "## 1. Introduction\n",
    "\n",
    "This repository contains all of the files pertaining to my 2018 assignment submission for the Programming for Data Analysis module of the GMIT H.Dip program in Data Analytics. All of the work within this repository was carried out over the course of a 4 week period in October and November 2018. This Jupyter notebook [1] contains the complete documentation for the project."
   ]
  },
  {
   "cell_type": "markdown",
   "metadata": {},
   "source": [
    "### 1.1 Project objective\n",
    "\n",
    "The objective of this assignment is to carry out some research into the `numpy.random` package in Python [2]. As part of this work, there is a requirement to investigate some of the functions in the package and summarise how and why they are used. This can be done by writing some scripts to demonstrate them. The problem statement for the assignment is as follows [3]:\n",
    "\n",
    "1. Explain the overall purpose of the `numpy.random` package.\n",
    "1. Explain the use of the “Simple random data” and “Permutations” functions.\n",
    "1. Explain the use and purpose of at least five “Distributions” functions.\n",
    "1. Explain the use of seeds in generating pseudorandom numbers."
   ]
  },
  {
   "cell_type": "markdown",
   "metadata": {},
   "source": [
    "## 2. The numpy.random package in Python\n",
    "\n"
   ]
  },
  {
   "cell_type": "markdown",
   "metadata": {},
   "source": [
    "### 2.1 Introduction to numpy\n",
    "\n",
    "According to the numpy documentation, \"NumPy is a Python extension module that provides efficient operation on arrays of homogeneous data\" [4]. What this means, is that numpy is a add-on package for Python that is not included as part of the standard library. It provides functionality for users to create multi-dimensional arrays of data and manipulate them using Python. The data in the arrays must be of the same type. Some of the benfits of using numpy are:\n",
    "\n",
    "1. It is free to use and open source, so it might be more attractive than propietry alternatives such as MATLAB\n",
    "1. The homogenous data stored in the arrays does not have to checked for \"type\" during operations making operations more efficient\n",
    "1. Numpy arrays are \"vectorised\"[5] - this means operations applied to the array are applied to each item in it. What this means is that an array can be say mulitplied by 2 and each item in the array will be mulplied by 2. Multiplying a list by 2 would yield an error!\n",
    "1. Another characteristic of arrays is that once they are initialised the size and shape cannot be changed [5] - this is desirable in some applications.\n",
    "\n",
    "Numpy is developed and maintained by SciPy community[6]. It is just one tool in the SciPy ecosystem. Other tools include:\n",
    "* Jupyter notebooks\n",
    "* IPython\n",
    "* Pandas\n",
    "* Matplotlib\n",
    "* The SciPy library\n",
    "\n",
    "All of the above packages are installed as part of the Anaconda distribution of Python."
   ]
  },
  {
   "cell_type": "markdown",
   "metadata": {},
   "source": [
    "### 2.2 Introduction to numpy.random\n",
    "\n",
    "Numpy.random is a sub-package of the numpy extension in Python. It provides fuctionality to allow the generation of random data. This is useful in many scenarios such as desiging and running simulations. According to the official documentation [2], there are four main sections in the package, each comprising many functions. These sections are:\n",
    "* Simple Random Data\n",
    "* Permutations\n",
    "* Distributions\n",
    "* Random Generator\n",
    "\n",
    "Each of the functions provides options for creating arrays with random data and depending on the function chosen and the arguments passed, a user can determine:\n",
    "* Size and shape of the array\n",
    "* Data type for the array\n",
    "* Range of data in the array\n",
    "* Distribution of data in the array\n",
    "\n",
    "The remainder of this notebook will look at some of the functions in each of the four sections, and explain their use by way of code demonstrations."
   ]
  },
  {
   "cell_type": "markdown",
   "metadata": {},
   "source": [
    "## 3. Simple Random Data Function\n",
    "\n",
    "In this section, the simple random data functions will be discussed and explained using the numpy.random documentation [2] as a guide. Before begining the code demonstrations the required libraries for this notebook must first be imported."
   ]
  },
  {
   "cell_type": "code",
   "execution_count": 2,
   "metadata": {},
   "outputs": [],
   "source": [
    "# Import Libraries\n",
    "import numpy as np\n",
    "import matplotlib.pyplot as plt\n",
    "import math"
   ]
  },
  {
   "cell_type": "markdown",
   "metadata": {},
   "source": [
    "### 3.1 Generating an array of random floats using numpy.random.rand()\n",
    "\n",
    "The function `numpy.random.rand()` allows the user to create an array of floating point numbers whose values are in the range between 0 and 1 - where 0 is included and 1 isn't. This is also known as a *half open interval* denoted by `[0,1)`. \n",
    "* The values in the array are uniformly chosen - so each value is a likely to be picked as any other. \n",
    "* The function will allow the user to pass any number of integer arguments, each one representing the length of a\n",
    "dimension for the array. \n",
    "* If the function is called with no arguments, it returns a single float. \n",
    "This function is demonstrated below:"
   ]
  },
  {
   "cell_type": "code",
   "execution_count": 3,
   "metadata": {},
   "outputs": [
    {
     "name": "stdout",
     "output_type": "stream",
     "text": [
      "[[0.61124653 0.07595016]\n",
      " [0.5065875  0.13583404]\n",
      " [0.86387351 0.54815443]]\n"
     ]
    }
   ],
   "source": [
    "# Create a random 3 x 2 array and print it out\n",
    "a_array = np.random.rand(3,2)\n",
    "print(a_array)"
   ]
  },
  {
   "cell_type": "markdown",
   "metadata": {},
   "source": [
    "As expected the function created a 3 x 2 array of random floats whose values are greater than or equal to zero and less than 1. Next the function will be called with no arguments"
   ]
  },
  {
   "cell_type": "code",
   "execution_count": 4,
   "metadata": {},
   "outputs": [
    {
     "name": "stdout",
     "output_type": "stream",
     "text": [
      "0.8311941903137288\n"
     ]
    }
   ],
   "source": [
    "# Call the rand() function with no arguments and print it out\n",
    "a_single = np.random.rand()\n",
    "print(a_single)"
   ]
  },
  {
   "cell_type": "markdown",
   "metadata": {},
   "source": [
    "As expected a single float with a value between 0 and 1 was created. The next thing to demonstrate is the distribution of values from the function. "
   ]
  },
  {
   "cell_type": "code",
   "execution_count": 5,
   "metadata": {},
   "outputs": [
    {
     "data": {
      "image/png": "[encoded data removed]",
      "text/plain": [
       "<matplotlib.figure.Figure at 0x8687860>"
      ]
     },
     "metadata": {},
     "output_type": "display_data"
    }
   ],
   "source": [
    "# Create a list by calling the fuction 10,000 times\n",
    "a_dist = [np.random.rand() for i in range(10000)]\n",
    "# Plot a histogram of the 10,000 values to visualise the spread\n",
    "plt.hist(a_dist, color=\"blue\")\n",
    "plt.show()"
   ]
  },
  {
   "cell_type": "markdown",
   "metadata": {},
   "source": [
    "The function has drawn the 10,000 floats in such a way that approximately one-tenth of them fall into each of the ten bins in the histogram, therefore they are uniformly distributed"
   ]
  },
  {
   "cell_type": "markdown",
   "metadata": {},
   "source": [
    "### 3.2 Generating an array of random floats using numpy.random.randn()\n",
    "\n",
    "The function `numpy.random.randn()` allows the user to create an array of floating point numbers whose values are in the  *half open interval* `[0,1)`. \n",
    "* The values in the array are chosen from the *standard normal distribution* which is a special case of the normal distriution where the mean is 0 and the standard deviation is 1. This means that the values are more likely to occur close to 0, and that most values will be in the range `[-3,3]` according to the empirical rule (which states that 99.7% of the numbers drawn should be in the range of +/- 3 standard deviations from the mean).\n",
    "* This function will allow the user to pass any number of integer arguments, eack one representing the lenght of a dimension for the array. \n",
    "* If the function is called with no arguments, it return a single float. \n",
    "This function is demonstrated below:"
   ]
  },
  {
   "cell_type": "code",
   "execution_count": 6,
   "metadata": {},
   "outputs": [
    {
     "name": "stdout",
     "output_type": "stream",
     "text": [
      "[[ 1.87297654 -2.17563111]\n",
      " [-0.35238728  0.58734138]\n",
      " [ 0.35089066 -0.20687122]]\n"
     ]
    }
   ],
   "source": [
    "# Create a random 3 x 2 array and print it out\n",
    "b_array = np.random.randn(3,2)\n",
    "print(b_array)"
   ]
  },
  {
   "cell_type": "markdown",
   "metadata": {},
   "source": [
    "The function has created a 3 x 2 array of random numbers. Calling the function without any arguments should return a single float:"
   ]
  },
  {
   "cell_type": "code",
   "execution_count": 7,
   "metadata": {},
   "outputs": [
    {
     "name": "stdout",
     "output_type": "stream",
     "text": [
      "0.15991069757316817\n"
     ]
    }
   ],
   "source": [
    "# Call the randn() function with no arguments and print it\n",
    "b_single = np.random.randn()\n",
    "print(b_single)"
   ]
  },
  {
   "cell_type": "markdown",
   "metadata": {},
   "source": [
    "To demonstrate the distribution of the values selected by this function, a list is defined by calling the function 10,000 times. A histogram will be used to visualise the spread of values. Values close to zero should have a higher probability of being selected, with the probability falling away as the values move towards -3 and 3."
   ]
  },
  {
   "cell_type": "code",
   "execution_count": 8,
   "metadata": {},
   "outputs": [
    {
     "data": {
      "image/png": "[encoded data removed]",
      "text/plain": [
       "<matplotlib.figure.Figure at 0x586fcc0>"
      ]
     },
     "metadata": {},
     "output_type": "display_data"
    }
   ],
   "source": [
    "# Call the function 10,000 times and create a list of the values it returns\n",
    "b_dist = [np.random.randn() for i in range(10000)]\n",
    "# Plot a histogram to visulise the distribution\n",
    "plt.hist(b_dist, color=\"red\")\n",
    "plt.show()"
   ]
  },
  {
   "cell_type": "markdown",
   "metadata": {},
   "source": [
    "This demonstrates that the while both rand() and randn() are called in the same manner using the same types of arguments to return the same size arrays, there is a vast difference between the two functions regarding the manner in which they select the *\"random\"* values to return"
   ]
  },
  {
   "cell_type": "markdown",
   "metadata": {},
   "source": [
    "### 3.3 Generating an array of random floats using numpy.random.random sample\n",
    "\n",
    "There is one other function for generating random floats in the package - `numpy.random.random_sample`. This function works exactly like `numpy.random.rand()`, with only difference being that instead of passing integers as the size arguments, this function takes a single tuple as an argument. This is demonstrated as follows:"
   ]
  },
  {
   "cell_type": "code",
   "execution_count": 9,
   "metadata": {},
   "outputs": [
    {
     "name": "stdout",
     "output_type": "stream",
     "text": [
      "[[0.49260576 0.51324242]\n",
      " [0.14994712 0.65977595]\n",
      " [0.54147739 0.62866411]\n",
      " [0.88144765 0.86106307]]\n"
     ]
    }
   ],
   "source": [
    "# Define the size tuple for a 4 x 2 array\n",
    "array_size = (4,2)\n",
    "# Create a random 4 x 2 array and print it out\n",
    "c_array = np.random.random_sample(array_size)\n",
    "print(c_array)"
   ]
  },
  {
   "cell_type": "code",
   "execution_count": 10,
   "metadata": {},
   "outputs": [
    {
     "name": "stdout",
     "output_type": "stream",
     "text": [
      "0.5065264725553235\n"
     ]
    }
   ],
   "source": [
    "# A single float can be returned by passing an empty tuple\n",
    "array_size = ()\n",
    "c_array = np.random.random_sample(array_size)\n",
    "print(c_array)"
   ]
  },
  {
   "cell_type": "markdown",
   "metadata": {},
   "source": [
    "As with the `rand()` function, random numbers are generated from a uniform distribution, this is demonstrated below:"
   ]
  },
  {
   "cell_type": "code",
   "execution_count": 11,
   "metadata": {},
   "outputs": [
    {
     "data": {
      "image/png": "[encoded data removed]",
      "text/plain": [
       "<matplotlib.figure.Figure at 0x853c8d0>"
      ]
     },
     "metadata": {},
     "output_type": "display_data"
    }
   ],
   "source": [
    "# Call the function 10,000 times and create a list of the values it returns\n",
    "c_dist = [np.random.random_sample() for i in range(10000)]\n",
    "# Plot a histogram to visulise the distribution\n",
    "plt.hist(c_dist, color=\"pink\")\n",
    "plt.show()"
   ]
  },
  {
   "cell_type": "markdown",
   "metadata": {},
   "source": [
    "The difference between `random_sample()` and `rand()` is subtle but could be important in certain applications. For example, if there is a function that returns a tuple, this function could be passed as the argument without the need for conversion. \n",
    "\n",
    "There are 3 other functions that are actually aliases of the random_sample() function. These functions are:\n",
    "* `numpy.random.random()`\n",
    "* `numpy.random.ranf()`\n",
    "* `numpy.random.sample()`\n",
    "\n",
    "Their inclusion in the numpy package is most likely due to the fact that other programming languages have these functions in them and it makes it easier for users of those languages to *'convert'* to Python. It can be demonstrated that these are aliases by calling them without parentheses:"
   ]
  },
  {
   "cell_type": "code",
   "execution_count": 12,
   "metadata": {},
   "outputs": [
    {
     "data": {
      "text/plain": [
       "<function RandomState.random_sample>"
      ]
     },
     "execution_count": 12,
     "metadata": {},
     "output_type": "execute_result"
    }
   ],
   "source": [
    "# Proof that random() is an alias for random_sample()\n",
    "np.random.random"
   ]
  },
  {
   "cell_type": "code",
   "execution_count": 13,
   "metadata": {},
   "outputs": [
    {
     "data": {
      "text/plain": [
       "<function RandomState.random_sample>"
      ]
     },
     "execution_count": 13,
     "metadata": {},
     "output_type": "execute_result"
    }
   ],
   "source": [
    "# Proof that ranf() is an alias for random_sample()\n",
    "np.random.ranf"
   ]
  },
  {
   "cell_type": "code",
   "execution_count": 14,
   "metadata": {},
   "outputs": [
    {
     "data": {
      "text/plain": [
       "<function RandomState.random_sample>"
      ]
     },
     "execution_count": 14,
     "metadata": {},
     "output_type": "execute_result"
    }
   ],
   "source": [
    "# Proof that sample() is an alias for random_sample()\n",
    "np.random.sample"
   ]
  },
  {
   "cell_type": "markdown",
   "metadata": {},
   "source": [
    "In each case it is demonstrated that the function simply calls the `random_sample()` function."
   ]
  },
  {
   "cell_type": "markdown",
   "metadata": {},
   "source": [
    "### 3.4 Generating an array of random integers using numpy.random.randint()\n",
    "\n",
    "In this section the `randint()` function for generating random integers is demonstrated. `randint()` takes at least one argument, and returns a random integer from the uniform distribution as follows:\n",
    "* If only one argument is passed - it must be of type integer, the function will return an random integer in the range 0 to the argument (inclusive of zero but not the argument)\n",
    "* If 2 arguments are passed - they must be of type integer, the function will return a random integer in the range between the 2 arguments (inclusive of the low value but not the high value)\n",
    "* A third argument can be passed - a tuple to represent the size of an array to be returned filed with random integers from the range between the arguments passed (inclusive of the low value but not the high value)\n",
    "\n",
    "Each of these cases are demonstrated below:"
   ]
  },
  {
   "cell_type": "code",
   "execution_count": 15,
   "metadata": {},
   "outputs": [
    {
     "name": "stdout",
     "output_type": "stream",
     "text": [
      "2\n"
     ]
    }
   ],
   "source": [
    "# Generate a random integer by passing just 1 argument, then print the value\n",
    "d_sing = np.random.randint(10)\n",
    "print(d_sing)"
   ]
  },
  {
   "cell_type": "markdown",
   "metadata": {},
   "source": [
    "As expected, the function returned a random integer in the range 0 to 9 inclusive."
   ]
  },
  {
   "cell_type": "code",
   "execution_count": 16,
   "metadata": {},
   "outputs": [
    {
     "name": "stdout",
     "output_type": "stream",
     "text": [
      "38\n"
     ]
    }
   ],
   "source": [
    "# Generate a random integer in a specified range by passing 2 integers, then print value\n",
    "d_doub = np.random.randint(-3,100)\n",
    "print(d_doub)"
   ]
  },
  {
   "cell_type": "markdown",
   "metadata": {},
   "source": [
    "As expected the function returned a random integer in the range -3 to 99 inclusive. Next, the function will be called with a size agrument passed to return an array."
   ]
  },
  {
   "cell_type": "code",
   "execution_count": 17,
   "metadata": {},
   "outputs": [
    {
     "name": "stdout",
     "output_type": "stream",
     "text": [
      "[[30 23]\n",
      " [72 59]\n",
      " [53 91]]\n"
     ]
    }
   ],
   "source": [
    "# Generate an array (of specified size) of random integers, in a specified range\n",
    "d_array = np.random.randint(-3,100,(3,2))\n",
    "print(d_array)"
   ]
  },
  {
   "cell_type": "markdown",
   "metadata": {},
   "source": [
    "As expected, the function returned a 3 x 2 array of integers, all of which are in the range -3 to 99 inclusive. \n",
    "\n",
    "The distribution from which the function selects the data can be demonstrated by running the function 10,000 times and plotting a histogram of the results:"
   ]
  },
  {
   "cell_type": "code",
   "execution_count": 18,
   "metadata": {},
   "outputs": [
    {
     "data": {
      "image/png": "[encoded data removed]",
      "text/plain": [
       "<matplotlib.figure.Figure at 0x8aea710>"
      ]
     },
     "metadata": {},
     "output_type": "display_data"
    }
   ],
   "source": [
    "# Create a list filled with 10,000 random integers generated using randint()\n",
    "# Select a value between 0 and 9 (inclusive) 10,000\n",
    "d_dist = [np.random.randint(10) for i in range(10000)]\n",
    "plt.hist(d_dist, color=\"green\")\n",
    "plt.show()"
   ]
  },
  {
   "cell_type": "markdown",
   "metadata": {},
   "source": [
    "The histogram demonstrates that the function returns uniformly distributed values as there are approximatley 1000 numbers in each of the 10 histogram bins. Note that the histogram only displays values in the range 0 to 9.\n",
    "\n",
    "There is another function called `numpy.random.randon_integers(`) that can be called to generate random integers. According to the numpy.random documentation[7] this function has been deprecated, and randint() should be used instead\n"
   ]
  },
  {
   "cell_type": "markdown",
   "metadata": {},
   "source": [
    "### 3.5 Selecting a random item from a list using the choice() function.\n",
    "\n",
    "There is one more interesting function in the \"Simple Random Data\" section. It is the `choice()` function that will randomly select an option from a given list. This function can be demonstrated with a simple list of 8 colours as follows:"
   ]
  },
  {
   "cell_type": "code",
   "execution_count": 19,
   "metadata": {},
   "outputs": [
    {
     "name": "stdout",
     "output_type": "stream",
     "text": [
      "orange\n"
     ]
    }
   ],
   "source": [
    "# Create a list of colours\n",
    "colours = [\"red\", \"green\", \"blue\", \"yellow\", \"orange\", \"black\", \"purple\",\"brown\"]\n",
    "# Use the choice() function to pick one colour at random and print it\n",
    "pick = np.random.choice(colours)\n",
    "print(pick)"
   ]
  },
  {
   "cell_type": "markdown",
   "metadata": {},
   "source": [
    "It is also possible to return an array of selections from the list, this is done by using the *keyword argument* `size` to pass an array size to the function."
   ]
  },
  {
   "cell_type": "code",
   "execution_count": 20,
   "metadata": {},
   "outputs": [
    {
     "name": "stdout",
     "output_type": "stream",
     "text": [
      "[['brown' 'purple']\n",
      " ['purple' 'red']\n",
      " ['green' 'black']\n",
      " ['black' 'black']]\n"
     ]
    }
   ],
   "source": [
    "# Define the size of the array required\n",
    "pick_size = (4,2)\n",
    "# pick an array of colours and print it\n",
    "pick_array = np.random.choice(colours, size=pick_size)\n",
    "print(pick_array)"
   ]
  },
  {
   "cell_type": "markdown",
   "metadata": {},
   "source": [
    "It is also possible to state whether or not the selected items should be replaced between selections for the returned array. The default is set to replace them. If the `Replace` keyword argument is set to `false`, items will not be replaced but the maximum size of the returned array (the size defined by `pick_size` tuple in our example) cannot exceed the total number of items allowed for selections (i.e. the lenght of `colours` in our example)"
   ]
  },
  {
   "cell_type": "code",
   "execution_count": 21,
   "metadata": {},
   "outputs": [
    {
     "name": "stdout",
     "output_type": "stream",
     "text": [
      "[['red' 'brown']\n",
      " ['black' 'yellow']\n",
      " ['purple' 'orange']\n",
      " ['green' 'blue']]\n"
     ]
    }
   ],
   "source": [
    "# Define the size of the array required\n",
    "pick_size = (4,2)\n",
    "# pick an array of colours and print it\n",
    "pick_array = np.random.choice(colours, size=pick_size, replace=False)\n",
    "print(pick_array)"
   ]
  },
  {
   "cell_type": "markdown",
   "metadata": {},
   "source": [
    "Finally a note on the distribution of the selections. By default the items are selected uniformly, this can be demonstrated through the following simulation:"
   ]
  },
  {
   "cell_type": "code",
   "execution_count": 22,
   "metadata": {},
   "outputs": [
    {
     "data": {
      "image/png": "[encoded data removed]",
      "text/plain": [
       "<matplotlib.figure.Figure at 0x8a99240>"
      ]
     },
     "metadata": {},
     "output_type": "display_data"
    }
   ],
   "source": [
    "# Call the fuction 10,000 times and plot the histogram\n",
    "pick_dist=[np.random.choice(colours) for i in range (10000)]\n",
    "plt.hist(pick_dist, color=\"blue\")\n",
    "plt.show()"
   ]
  },
  {
   "cell_type": "markdown",
   "metadata": {},
   "source": [
    "This demonstrates that all 8 colours in the the original list have an approximately equal chance of being picked by default. It is possible to *load* the selections by passing a probability keyword argument, `p`. The following must hold for `p`:\n",
    "* `p` must be a tuple of floating point numbers, the same lenghth as the original list (`colours` in this example)\n",
    "* The total sum of all the floats in `p` must equal 1\n",
    "* The first item in `p` represents the probability of the first item in the original list (`colours`) being picked\n",
    "* The second item in `p` represents the second item in `colours` etc.\n",
    "This functionality is demonstrated below:"
   ]
  },
  {
   "cell_type": "code",
   "execution_count": 23,
   "metadata": {},
   "outputs": [
    {
     "data": {
      "image/png": "[encoded data removed]",
      "text/plain": [
       "<matplotlib.figure.Figure at 0x85dbeb8>"
      ]
     },
     "metadata": {},
     "output_type": "display_data"
    }
   ],
   "source": [
    "# Redefine \"colours\" for clarity\n",
    "colours = [\"red\", \"green\", \"blue\", \"yellow\", \"orange\", \"black\", \"purple\",\"brown\"]\n",
    "# Make red 3 times more likely to be picked than the others using a tuple\n",
    "prob = (0.3, 0.1, 0.1, 0.1, 0.1, 0.1, 0.1, 0.1)\n",
    "pick_dist=[np.random.choice(colours,p=(prob)) for i in range (10000)]\n",
    "plt.hist(pick_dist, color=\"red\")\n",
    "plt.show()"
   ]
  },
  {
   "cell_type": "markdown",
   "metadata": {},
   "source": [
    "As expected \"red\" was selcted about 3 times more often (3000 time in total) than the other colours which were all selected with about the same frequency (about 1000 times each)."
   ]
  },
  {
   "cell_type": "markdown",
   "metadata": {},
   "source": [
    "## 4. Permutation Function\n",
    "\n",
    "In this section the Permutations functions within the `numpy.random` package are investigated. There are 2 functions in this section:\n",
    "\n",
    "* shuffle()\n",
    "* permutations()\n",
    "\n",
    "The 2 functions are similar, but there is a subtle difference between them. `shuffle()` takes a list as an input and shuffles the contents of the list in place, and by doing so changes the original list. `permutation()` takes a list as an input and returns a different permutation of the same list - without changing the arrangement of the original list. Each function will be demonstrated in turn.\n",
    "\n",
    "### 4.1 numpy.random.shuffle()\n",
    "\n",
    "This sections will look at the mechanics of the `shuffle()` function in `numpy.random()`."
   ]
  },
  {
   "cell_type": "code",
   "execution_count": 25,
   "metadata": {},
   "outputs": [
    {
     "name": "stdout",
     "output_type": "stream",
     "text": [
      "['green', 'orange', 'black', 'purple', 'red', 'blue', 'yellow', 'brown']\n"
     ]
    }
   ],
   "source": [
    "# Create a list of colours\n",
    "colours = [\"red\", \"green\", \"blue\", \"yellow\", \"orange\", \"black\", \"purple\",\"brown\"]\n",
    "# Use the shuffle() function to re-arrange them and print\n",
    "np.random.shuffle(colours)\n",
    "print(colours)"
   ]
  },
  {
   "cell_type": "markdown",
   "metadata": {},
   "source": [
    "This demonstrates that the `shuffle()` function actually changes the list that was inputed, as after we run this function, printing the `colours` list returns a new order.\n",
    "\n",
    "Another thing to be aware of with the `shuffle()` function isthat  it can be used on multi-dimensional arrays but it only shuffles along the first dimension. Items in the other dimensions will remain in their original locations. "
   ]
  },
  {
   "cell_type": "code",
   "execution_count": 26,
   "metadata": {},
   "outputs": [
    {
     "name": "stdout",
     "output_type": "stream",
     "text": [
      "[[4 6 0 5 9]\n",
      " [6 8 9 1 4]\n",
      " [5 3 9 4 8]\n",
      " [6 9 7 9 6]]\n"
     ]
    }
   ],
   "source": [
    "# create a 4 x 5 array of random integers between 0 and 9\n",
    "array = np.random.randint(0,10,(4,5))\n",
    "# print the original array\n",
    "print(array)"
   ]
  },
  {
   "cell_type": "markdown",
   "metadata": {},
   "source": [
    "Now this array is shuffled"
   ]
  },
  {
   "cell_type": "code",
   "execution_count": 27,
   "metadata": {},
   "outputs": [
    {
     "name": "stdout",
     "output_type": "stream",
     "text": [
      "[[6 8 9 1 4]\n",
      " [4 6 0 5 9]\n",
      " [6 9 7 9 6]\n",
      " [5 3 9 4 8]]\n"
     ]
    }
   ],
   "source": [
    "# shuffle the array and print it\n",
    "np.random.shuffle(array)\n",
    "print(array)"
   ]
  },
  {
   "cell_type": "markdown",
   "metadata": {},
   "source": [
    "Notice how the order of the rows has changed, but not the order of the items in each row."
   ]
  },
  {
   "cell_type": "markdown",
   "metadata": {},
   "source": [
    "### 4.2 numpy.random.permutation()\n",
    "\n",
    "As stated, `permutation()` is similar to `shuffle()` with a subtle difference being that while `shuffle()` changes the original list, `permutation()` does not."
   ]
  },
  {
   "cell_type": "code",
   "execution_count": 28,
   "metadata": {},
   "outputs": [
    {
     "name": "stdout",
     "output_type": "stream",
     "text": [
      "['red', 'green', 'blue', 'yellow', 'orange', 'black', 'purple', 'brown']\n"
     ]
    }
   ],
   "source": [
    "# Define a list of colours and print\n",
    "colours = [\"red\", \"green\", \"blue\", \"yellow\", \"orange\", \"black\", \"purple\",\"brown\"]\n",
    "print(colours)"
   ]
  },
  {
   "cell_type": "markdown",
   "metadata": {},
   "source": [
    "Using the `permutation()` function will return a shuffled array"
   ]
  },
  {
   "cell_type": "code",
   "execution_count": 29,
   "metadata": {},
   "outputs": [
    {
     "name": "stdout",
     "output_type": "stream",
     "text": [
      "['orange' 'yellow' 'green' 'brown' 'purple' 'black' 'blue' 'red']\n"
     ]
    }
   ],
   "source": [
    "# permutation() returns a shuffled array\n",
    "print(np.random.permutation(colours))"
   ]
  },
  {
   "cell_type": "markdown",
   "metadata": {},
   "source": [
    "Note that the original list `colours` is unchanged by this operation"
   ]
  },
  {
   "cell_type": "code",
   "execution_count": 29,
   "metadata": {},
   "outputs": [
    {
     "name": "stdout",
     "output_type": "stream",
     "text": [
      "['red', 'green', 'blue', 'yellow', 'orange', 'black', 'purple', 'brown']\n"
     ]
    }
   ],
   "source": [
    "# print the original list\n",
    "print(colours)"
   ]
  },
  {
   "cell_type": "markdown",
   "metadata": {},
   "source": [
    "## 5. Distributions\n",
    "\n",
    "`numpy.random` provides functionality to the user to generate random numbers. These random numbers have many use cases, especially in the world of simulation. In this case, a user might choose to generate some random data in order to test or demonstrate a theory. One of the things to bear in mind, however, is that that all simulations are not the same. Most people would probably believe that \"random numbers\" should be drawn with equal likelihood that each number in the specified range could be selected. In real life, this is not the case. Depending on the simulation carried out, the analyst might need the random data to be chosen in such a way that some numbers have a higher probability of being chosen than others. In other words that the probilities for each number being drawn are _distrubuted_. Some use cases of different probability distributions would be:\n",
    "\n",
    " * modelling times to failure of engineering components\n",
    " * predicting likelihood of a successful oil exploration\n",
    " * designing ergonomics into daily life\n",
    " * forecasting sales data\n",
    "\n",
    "In each of these cases, different random data is required to properly simulate the characteristics of the model. There are many different ditribution models available in the `np.random` package and some of these will be looked at in this section."
   ]
  },
  {
   "cell_type": "markdown",
   "metadata": {},
   "source": [
    "### 5.1 Uniform Distribution [8]\n",
    "\n",
    "When most people think of random number generation, they think of uniformly distributed numbers. It this case, each number in the range has equal likelihood of being drawn. The `numpy.random` function for this purpose is the `uniform` distribution. It is a continuous distribution so the values drawn are floats. \n",
    "A real life example of how this might be used is for daily sales forecasts in the retail sector. The analyst might have an idea of what the minimum and maximum daily sales figures could be, and then use random numbers drawn from a uniform distribution to help model a sales forecast. The probability density function, `p(x)` for the uniform distribution is: \n",
    "\n",
    "$$ p(x) = \\frac{1}{b - a} $$\n",
    "\n",
    "Where `a` is the minimum value of the range and `b` is the maximum. The code sample below demonstrates this probability density function:"
   ]
  },
  {
   "cell_type": "code",
   "execution_count": 30,
   "metadata": {},
   "outputs": [
    {
     "data": {
      "image/png": "[encoded data removed]",
      "text/plain": [
       "<matplotlib.figure.Figure at 0x116f16da0>"
      ]
     },
     "metadata": {
      "needs_background": "light"
     },
     "output_type": "display_data"
    }
   ],
   "source": [
    "# Set the minimum and maximum values a and b\n",
    "a = 10\n",
    "b = 40\n",
    "# Generate a list of x-values in the range between minimum and maximum\n",
    "x = np.arange(a,b+1,1)\n",
    "# Calulate a corresponding list of y values using the pdf formula\n",
    "y = [1/(b-a) for i in range(len(x))]\n",
    "# Plot the distribution\n",
    "plt.title(\"Uniform Distribution between \" + str(a) + \" and \" + str(b))\n",
    "plt.xlabel(\"x\")\n",
    "plt. ylabel(\"p(x)\")\n",
    "plt.plot(x,y, 'b-')\n",
    "plt.show()"
   ]
  },
  {
   "cell_type": "markdown",
   "metadata": {},
   "source": [
    "The plot of the pdf above shows that there is a equal chance of each number between 10 and 40 being drawn. The probability of each number is approximately 0.0333 (1/30). In the next example, 10,000 numbers between 10 and 40 will be drawn with the `uniform` distribution. The distribution of these will be compared to the theoretical formula. "
   ]
  },
  {
   "cell_type": "code",
   "execution_count": 31,
   "metadata": {},
   "outputs": [
    {
     "data": {
      "image/png": "[encoded data removed]",
      "text/plain": [
       "<matplotlib.figure.Figure at 0x116fda8d0>"
      ]
     },
     "metadata": {
      "needs_background": "light"
     },
     "output_type": "display_data"
    }
   ],
   "source": [
    "# select 10,000 items using uniform distribution in range a to b\n",
    "# note a and b are defined in the previous example\n",
    "data = [np.random.uniform(a,b, 10000)]\n",
    "\n",
    "# Plot a histogram of the probabilty density - https://matplotlib.org/api/_as_gen/matplotlib.pyplot.hist.html\n",
    "plt.hist(data, color='red', density=True)\n",
    "plt.title(\"Uniform Distribution between \" + str(a) + \" and \" + str(b))\n",
    "plt.xlabel(\"x\")\n",
    "plt. ylabel(\"P(x)\")\n",
    "\n",
    "# Plot the pdf from the previous example\n",
    "plt.plot(x,y, 'b-')\n",
    "plt.show()"
   ]
  },
  {
   "cell_type": "markdown",
   "metadata": {},
   "source": [
    "The plot above demonstrates how the `uniform` distribution draws numbers in a non-biased way, where each number in the range has an equal chance of being drawn. In the histogram function, setting `desity=True` will scale the output of the histogram so that the area of all bins will sum to 1. `p(x)`, from the pdf should also sum to 1 so this is great for making comaprisons. The next example shows a real life application of the distribution.\n",
    "\n",
    "#### Scenario - Uniform Distribution\n",
    "\n",
    "In this scenario, the owner of an ice-cream shop would like to forecast the monthly sales for the shop. The shop owner knows that the daily sales are always between €50 and €100. The `uniform` distribution will be used to estimate a monthly forecast for July."
   ]
  },
  {
   "cell_type": "code",
   "execution_count": 30,
   "metadata": {},
   "outputs": [
    {
     "name": "stdout",
     "output_type": "stream",
     "text": [
      "Total Sales forecast for July is: €2455.75\n"
     ]
    }
   ],
   "source": [
    "# Set min and max sales\n",
    "min_sales = 50\n",
    "max_sales = 100\n",
    "\n",
    "# return daily sales forecast for the month of July (31 random numbers between 50 and 100)\n",
    "july_sales = [np.random.uniform(min_sales, max_sales, 31)]\n",
    "\n",
    "# round to 2 decimal places \n",
    "print(\"Total Sales forecast for July is: €\" + str(round(np.sum(july_sales),2)))"
   ]
  },
  {
   "cell_type": "markdown",
   "metadata": {},
   "source": [
    "### 5.2 Normal Distribution\n",
    "\n",
    "The Normal distribution is another common distribution that would be seen in everyday life. Items in the normal distribution are distributed about some *mean* value, where items are more likley to be near the mean. The pattern of the spread of values is defined by the *standard deviation*, and this gives a measure of how close most items are to the mean. A real life example of how this might be used for ergonomic design of a doorway. The designer might have an idea of the average heights of the population and the standard deviation of those. They can then use random numbers drawn from a normal distribution to help model the right height to set the doorway to ensure people don't have to duck!. \n",
    "The formula for the probability density function for the normal distribution is: \n",
    "\n",
    "![Normal pdf formula](https://qph.fs.quoracdn.net/main-qimg-5b39dd36ad8f6be108f36b4cd109c9d0-c)\n",
    "\n",
    " \n",
    " To illustrate the `normal` distribution, the distribution in height of Irish males will be considered. The average height of an Irish male was found to be 176.6 cm [9]. The standard deviation is difficult to find but taken to be 7 cm for this example [10]."
   ]
  },
  {
   "cell_type": "code",
   "execution_count": 31,
   "metadata": {},
   "outputs": [
    {
     "data": {
      "image/png": "[encoded data removed]",
      "text/plain": [
       "<matplotlib.figure.Figure at 0x8fad6d8>"
      ]
     },
     "metadata": {},
     "output_type": "display_data"
    }
   ],
   "source": [
    "# Plot the distribution\n",
    "# Set the mean\n",
    "m = 176.6\n",
    "# Set the standard deviation \n",
    "s = 7\n",
    "# Set the range to be plus or minus 4 standard deviations from the mean (empirical rule states 99.7% will be +/- 3 standard devs)\n",
    "x = np.arange((m-4*s),(m+4*s),1)\n",
    "y = [1/(s*(2*math.pi)**0.5)*math.exp((-(x[i]-m)**2)/(2*s**2)) for i in range(len(x))]\n",
    "\n",
    "plt.title(\"Normal Distribution of Heights of Irish Males\")\n",
    "plt.xlabel(\"Height cms\")\n",
    "plt. ylabel(\"P(x)\")\n",
    "plt.plot(x,y, 'b-')\n",
    "plt.show()"
   ]
  },
  {
   "cell_type": "markdown",
   "metadata": {},
   "source": [
    "The above plot shows how the heights of Irish males are distributed accoriding to the formula. In the next section, the `normal` distribution function will be used to draw 10,000 samples using the same mean and standard devaition. The drawn samples will then be compared to the theoretical formula."
   ]
  },
  {
   "cell_type": "code",
   "execution_count": 32,
   "metadata": {},
   "outputs": [
    {
     "data": {
      "image/png": "[encoded data removed]",
      "text/plain": [
       "<matplotlib.figure.Figure at 0x9032470>"
      ]
     },
     "metadata": {},
     "output_type": "display_data"
    }
   ],
   "source": [
    "# note that the mean (m), and standard deviation (s) are defined in th previous example\n",
    "#select 10,000 items using normal distribution with mean m and standard deviation s\n",
    "data = [np.random.normal(m,s, 10000)]\n",
    "# Plot a histogram of the drawn samples (use 100 bins to show the detail)\n",
    "plt.hist(data, color='red', density=True, bins=100)\n",
    "plt.title(\"Normal Distribution of Heights of Irish Males\")\n",
    "plt.xlabel(\"Height cms\")\n",
    "plt. ylabel(\"P(x)\")\n",
    "# Plot the pdf from the previous example\n",
    "plt.plot(x,y, 'b-')\n",
    "plt.show()"
   ]
  },
  {
   "cell_type": "markdown",
   "metadata": {},
   "source": [
    "This plot demonstrates how the `normal` distribution function draws samples in line with pdf function for the distribution. A real world application for the use of the `numpy.random.normal` distribution function is descibed below. \n",
    "\n",
    "#### Scenario - Normal Distribution\n",
    "\n",
    "In this scenario, an architect would like to design a door frame in such a way that 99% of Irish males could walk under it without stooping. The architect knows that the average height of an Irish male is 176.6 cm and the standard deviation 7 cm. She wants to know what percentage of Irish males will be too tall for a 190 cm door frame."
   ]
  },
  {
   "cell_type": "code",
   "execution_count": 33,
   "metadata": {},
   "outputs": [
    {
     "name": "stdout",
     "output_type": "stream",
     "text": [
      "The percentage of Irish males too tall for a 190cm door is 2.8\n"
     ]
    }
   ],
   "source": [
    "# Set mean and standard deviation\n",
    "m_mean = 176.6\n",
    "s_stddev = 7\n",
    "# Simulate 10,000 Irish male walking through the door \n",
    "irish_males = [np.random.normal(m_mean, s_stddev) for i in range(10000)]\n",
    "\n",
    "# Check each male to see are they too tall\n",
    "too_tall = []\n",
    "for male in irish_males:\n",
    "   if male > 190:\n",
    "    # If they are too tall - record it in the list\n",
    "      too_tall.append(male)\n",
    "    \n",
    "print(\"The percentage of Irish males too tall for a 190cm door is \" + str(round(len(too_tall)*100/10000,2)))"
   ]
  },
  {
   "cell_type": "markdown",
   "metadata": {},
   "source": [
    "As approximately 3% of Irish males will be too tall for a 190cm door, this does not meet the criteria for 99% of males fitting through the door. The calculations can be re-done for a 195cm door:"
   ]
  },
  {
   "cell_type": "code",
   "execution_count": 34,
   "metadata": {},
   "outputs": [
    {
     "name": "stdout",
     "output_type": "stream",
     "text": [
      "The percentage of Irish males too tall for a 195cm door is 0.32\n"
     ]
    }
   ],
   "source": [
    "# Set mean and standard deviation\n",
    "m_mean = 176.6\n",
    "s_stddev = 7\n",
    "# Simulate 10,000 Irish male walking through the door \n",
    "irish_males = [np.random.normal(m_mean, s_stddev) for i in range(10000)]\n",
    "\n",
    "# Check each male to see are they too tall\n",
    "too_tall = []\n",
    "for male in irish_males:\n",
    "   if male > 195:\n",
    "    # If they are too tall - record it in the list\n",
    "      too_tall.append(male)      \n",
    "\n",
    "print(\"The percentage of Irish males too tall for a 195cm door is \" + str(round(len(too_tall)*100/10000,2)))"
   ]
  },
  {
   "cell_type": "markdown",
   "metadata": {},
   "source": [
    "The architect can now design a 195cm door frame to meet the requirements."
   ]
  },
  {
   "cell_type": "markdown",
   "metadata": {},
   "source": [
    "### 5.3 Binomial Distribution\n",
    "\n",
    "A binomial experiment is one which has the following 4 properties [11]:\n",
    "\n",
    "* The experiment consists of a fixed number (pre determined) of repeated trials, `n`\n",
    "* There are exactly 2 possible outcomes to each trial, success or failure\n",
    "* The probability of success is the same on each trial, `p`\n",
    "* The trial are independant - i.e. the outcome of one trial will not effect the other\n",
    "\n",
    "It is possible to model the distribution of all possible out comes froma binomial experiment as the distribtion is defined by the following formula[12]:\n",
    "![Binomial](img/bin.png)\n",
    "\n",
    "The distribution is used widely in forecasting and prediction. Take the following as an example. A production manager in a barley malting plant knows that his barley intake route will start up without faults 90% of the time. He runs the intake route 438 times per year. What is the probability that it will start up correctly at least 400 times. "
   ]
  },
  {
   "cell_type": "code",
   "execution_count": 36,
   "metadata": {},
   "outputs": [
    {
     "data": {
      "image/png": "[encoded data removed]",
      "text/plain": [
       "<matplotlib.figure.Figure at 0x8f9c6a0>"
      ]
     },
     "metadata": {},
     "output_type": "display_data"
    }
   ],
   "source": [
    "# Set the varaibles\n",
    "p = 0.90\n",
    "q = 1-p\n",
    "n = 438\n",
    "r = 400 # at least\n",
    "# Plot the distribution\n",
    "x = np.arange(1,(n+1),1)\n",
    "y = [(math.factorial(n)/(math.factorial(x[i])*math.factorial(n-x[i])))*(p**x[i])*(q**(n-x[i])) for i in range(len(x))]\n",
    "\n",
    "plt.title(\"Binomial Distribution\")\n",
    "plt.xlabel(\"No of Successes\")\n",
    "plt.ylabel(\"P(x)\")\n",
    "plt.xlim(360,430)\n",
    "plt.plot(x,y, 'b')\n",
    "plt.show()"
   ]
  },
  {
   "cell_type": "markdown",
   "metadata": {},
   "source": [
    "The above plot demonstrates the the distribution peaks at just under 400. \n",
    "\n",
    "The `numpy.random` function draws samples from a binomial distribution based on the arguments passed to the function. For comparison 10,000 samples can be drawn using the binomial distribution as described in our problem"
   ]
  },
  {
   "cell_type": "code",
   "execution_count": 37,
   "metadata": {},
   "outputs": [
    {
     "data": {
      "image/png": "[encoded data removed]",
      "text/plain": [
       "<matplotlib.figure.Figure at 0x8c36710>"
      ]
     },
     "metadata": {},
     "output_type": "display_data"
    }
   ],
   "source": [
    "# note that p,q,n and r are defined in the previous example\n",
    "#select 10,000 items using binomial distribution with p and n taken from our problem \n",
    "data = [np.random.binomial(n,p, 10000)]\n",
    "# Plot a histogram of the drawn samples\n",
    "plt.hist(data, color='red', density=True, bins=24)\n",
    "plt.title(\"Binomial Distribution of Successful Start-Ups\")\n",
    "plt.xlim(360,430)\n",
    "plt.xlabel(\"No of Successes\")\n",
    "plt.ylabel(\"P(x)\")\n",
    "# Plot the distribution from the previous example\n",
    "\n",
    "plt.plot(x,y, 'b')\n",
    "plt.show()"
   ]
  },
  {
   "cell_type": "markdown",
   "metadata": {},
   "source": [
    "Comparing this plot to the previous one demonstrates that the `numpy.random.binomial` function draws samples from the expected binomial distribution. \n",
    "\n",
    "Back to the problem, to determine the probability of the line starting correctly more than 400 times, the production manager can use the `numpy.random.binomial` function as follows:"
   ]
  },
  {
   "cell_type": "code",
   "execution_count": 39,
   "metadata": {},
   "outputs": [
    {
     "name": "stdout",
     "output_type": "stream",
     "text": [
      "The chance of getting at least 400 successful start ups is 19.96%\n"
     ]
    }
   ],
   "source": [
    "# Randomly select 10,000 data points from the binomial distriution using our paramaeters\n",
    "p = 0.90\n",
    "q = 1-p\n",
    "n = 438\n",
    "r = 400\n",
    "test_data = [np.random.binomial(n,p) for i in range(10000)]\n",
    "# Check the test data to see are the values over the threshold of r\n",
    "over_r = []\n",
    "for point in test_data:\n",
    "    if point >= r:\n",
    "        over_r.append(point)\n",
    "# Calculate the percentage over 425        \n",
    "perc_over_r = round(len(over_r)*100/len(test_data),2)  \n",
    "# print the results\n",
    "print(\"The chance of getting at least \" + str(r) + \" successful start ups is \" + str(perc_over_r) +\"%\")"
   ]
  },
  {
   "cell_type": "markdown",
   "metadata": {},
   "source": [
    "The production manager can now predit that there is about a 20% chance that the line will start up correctly on at least 400 occasions - he should probably contact the engineering manager and look at improveing the reliability of the line!"
   ]
  },
  {
   "cell_type": "markdown",
   "metadata": {},
   "source": [
    "### 5.4 Exponential Distribution\n",
    "\n",
    "The exponential distribution is commonly used in models concerened with intervals between events [8]. Common examples of exponentially distributed intervals would be:\n",
    "\n",
    "* Modelling the time between customers entering a shop\n",
    "* Modelling the human survival rates\n",
    "* Modelling failure rates of industrial machinery\n",
    "\n",
    "As a former reliability engineer, I have some experience of working with failure rates of industrial systems. A random variable `x` is said to be exponentially distributed with a probability density function `p(x)` defined as follows:\n",
    "\n",
    "$$\n",
    "(x) = {\\lambda} e ^ {- \\lambda x } \\qquad \\qquad x > 0,\n",
    "$$\n",
    "for $\\lambda > 0$, representing the rate. The actual meaning of the rate varies depending on the model, but for reliability engineering problems it usually represents the *failure rate*. Take the following as an example, a reliability engineer wants to predict what percentage of new pumps will last at least 1,000 hours before failing. He has data on 2,500 other such pumps that have all run for an average of 150 hours each with 75 pumps failing in operation so far.\n",
    "\n",
    "The first step is to calculate the failure rate for the problem:\n"
   ]
  },
  {
   "cell_type": "code",
   "execution_count": 38,
   "metadata": {},
   "outputs": [
    {
     "name": "stdout",
     "output_type": "stream",
     "text": [
      "The failure rate for these pumps is: 0.0002 pumps per hour\n"
     ]
    }
   ],
   "source": [
    "# Define the variables\n",
    "avg_run_time = 150\n",
    "no_of_units = 2500\n",
    "no_of_fails = 75\n",
    "\n",
    "# Calculate the failure rate, lam\n",
    "lam = no_of_fails/(avg_run_time * no_of_units) \n",
    "print(\"The failure rate for these pumps is: \" + str(lam) + \" pumps per hour\")"
   ]
  },
  {
   "cell_type": "markdown",
   "metadata": {},
   "source": [
    "Having the failure rate, allows us to plot the probability density function for the problem:"
   ]
  },
  {
   "cell_type": "code",
   "execution_count": 39,
   "metadata": {},
   "outputs": [
    {
     "data": {
      "image/png": "[encoded data removed]",
      "text/plain": [
       "<matplotlib.figure.Figure at 0x8569b70>"
      ]
     },
     "metadata": {},
     "output_type": "display_data"
    }
   ],
   "source": [
    "# The x-axis will represent time run in the range to 1,500 hours\n",
    "x = np.arange(1,(1501),1)\n",
    "y = [lam*math.exp((-lam*x[i]))  for i in range(len(x))]\n",
    "\n",
    "plt.title(\"Exponential Distribution\")\n",
    "plt.xlabel(\"Hours Run\")\n",
    "plt.ylabel(\"P(x) of Failiure\")\n",
    "plt.xlim(0,1500)\n",
    "plt.ylim(0.0001, 0.00021)\n",
    "plt.plot(x,y, 'b')\n",
    "plt.show()"
   ]
  },
  {
   "cell_type": "markdown",
   "metadata": {},
   "source": [
    "In order to draw a comparison, the `numpy.random.exponential` function will be used to draw 10,000 samples in the same range. Note that in the pumps example I have chosen to use the *rate* parameter as it represents something physical with units in *hours*. The emponential function in numpy uses the inverse of this (know as the *shape* parameter). It is just a different way of representing the same distribution, and we just need to be aware of it and invert our rate parameter before calling the function."
   ]
  },
  {
   "cell_type": "code",
   "execution_count": 40,
   "metadata": {},
   "outputs": [
    {
     "data": {
      "image/png": "[encoded data removed]",
      "text/plain": [
       "<matplotlib.figure.Figure at 0xa148ba8>"
      ]
     },
     "metadata": {},
     "output_type": "display_data"
    }
   ],
   "source": [
    "#select 10,000 items using exponetial distribution \n",
    "data = [np.random.exponential((1/lam), 10000)]\n",
    "# Plot a histogram of the drawn samples\n",
    "plt.hist(data, color='red', density=True, bins=100)\n",
    "plt.title(\"Expontial Distribution of Pump Failure Times\")\n",
    "plt.xlim(0,1500)\n",
    "plt.ylim(0.0001, 0.00021)\n",
    "plt.xlabel(\"Hours Run\")\n",
    "plt.ylabel(\"P(x) of Failure\")\n",
    "# Plot the distribution from the previous example\n",
    "\n",
    "plt.plot(x,y, 'b')\n",
    "plt.show()"
   ]
  },
  {
   "cell_type": "markdown",
   "metadata": {},
   "source": [
    "Comparing this plot to the previous one demonstrates that the `numpy.random.exponential` function draws samples from the expected exponential distribution. \n",
    "\n",
    "Back to the problem, to determine the probability of a new pump running without failure for at least 1000 hours, the reliability engineer can use `numpy.random.exponential` to simulate it as follows.\n",
    "\n",
    "1. Draw 10,000 samples from an exponential distribution using our defined failure rate\n",
    "1. Check each drawn sample to see is it greater than or equal to 1,000 hours\n",
    "1. Determine what percentage of the total are greater than or equal to 1,000 hours"
   ]
  },
  {
   "cell_type": "code",
   "execution_count": 42,
   "metadata": {},
   "outputs": [
    {
     "name": "stdout",
     "output_type": "stream",
     "text": [
      "The probability of a new pump lasting at least 1,000 hours is 81.57%\n"
     ]
    }
   ],
   "source": [
    "# Randomly select 10,000 data points from the exponential distribution using our parameters\n",
    "pump_data = [np.random.exponential(1/lam) for i in range(10000)]\n",
    "# Check the test data to see are the values over the threshold of 1000\n",
    "over_1000 = []\n",
    "for point in pump_data:\n",
    "    if point >= 1000:\n",
    "        over_1000.append(point)\n",
    "# Calculate the percentage over 1000       \n",
    "perc_over_1000 = round(len(over_1000)*100/len(pump_data),2)  \n",
    "# print the results\n",
    "print(\"The probability of a new pump lasting at least 1,000 hours is \" + str(perc_over_1000) +\"%\")"
   ]
  },
  {
   "cell_type": "markdown",
   "metadata": {},
   "source": [
    "Note, that one key assumption in using the the exponential distribution to simulate reliability problems is a that the failure rate is assumed constant. This means that a pump is as likely to fail at installation time as it is after running for several thousand hours. While this assumption holds true for many engineering components, it is not true in all cases. The Weibull distribution is extremely useful for modelling problems with different failure rates and this will be discussed in the next section."
   ]
  },
  {
   "cell_type": "markdown",
   "metadata": {},
   "source": [
    "### 5.5 Weibull Distribution\n",
    "\n",
    "The Weibull Distribution was invented in 1937 by Waloddi Weibull while researching materials fatigue [13]. It is useful in modelling a range of real world problems. It has advantages over the exponential function in that it can give resonably acurrate results with small data sets (as few as 6 or 8 data points). Also, when using the exponential distribution, the rate parameter is constant. The Weibull distribution allows the modelling of different scenarios based on whether the rate parameter is constant, increasing or decreasing. The probability density function for the Weibull distribution of a random variable `t`, is:\n",
    "\n",
    "![Weibull](img/weib.png)\n",
    "\n",
    " Where $\\beta > 0$ , represents the shape parameter and $\\eta > 0$ represent the characteristic life. These 2 parameters are traditionally estimated by plotting the data set manually using Weibull graphical paper. Luckily the `Scipy` package in python has a function to estimate these parameters based on the data set [14]. There is a third parameter, the location parameter, this is used in cases where all items are assumed to have a certain minimum, non-zero life. For these examples, this location parameter will be assumed to be zero.\n",
    " \n",
    " A note on the shape parameter $\\beta$, the value of this gives us an idea of whether the rate is increasing, decreasing or constant. When:\n",
    " * $\\beta$ = 1, the rate is constant - characterisitic of random failures\n",
    " * $\\beta$ > 1, the rate is increasing - characteristic of wear out failures\n",
    " * $\\beta$ < 1, the rate is decreasing - characteristic of manufacturing and installation flaws\n",
    " \n",
    " In this example a reliability engineer, is trying to determine the the probability that a given pump will last 1000 hours before failure. He has failure data (in hours) on 20 such pumps. The steps to determine this are:\n",
    " 1. Determine the Weibull shape ($\\beta$), and scale ($\\eta$) parameters\n",
    " 1. Use these values with `numpy.random.weibull` to draw some random samples\n",
    " 1. Determine what percentage of the drawn samples have a time to failure greater that 1000 hours\n",
    " "
   ]
  },
  {
   "cell_type": "code",
   "execution_count": 44,
   "metadata": {},
   "outputs": [
    {
     "name": "stdout",
     "output_type": "stream",
     "text": [
      "The Weibull shape parameter for this type of pump is: 1.9290218456223767\n",
      "The Weibull scale parameter for this type of pump is: 1071.042249358169\n"
     ]
    }
   ],
   "source": [
    "# Import scipy.stats for the Weibull functions\n",
    "import scipy.stats as st\n",
    "# Create a list of the pump data\n",
    "pump_fail = [1100, 900, 1200, 1340, 870, 456, 1400, 230, 125, 567, 890, 2300, 1467, 1545, 745, 678, 345, 578, 1045, 1245]\n",
    "# Use the weibull_min.fit function to calculate the shape and the scale for the problem\n",
    "shape, loc, scale = st.weibull_min.fit(pump_fail, floc=0)\n",
    "print(\"The Weibull shape parameter for this type of pump is: \" + str(shape))\n",
    "print(\"The Weibull scale parameter for this type of pump is: \" + str(scale))"
   ]
  },
  {
   "cell_type": "markdown",
   "metadata": {},
   "source": [
    "The shape parameter is greater than 1 - this implies a wear-out failure mode for these pump. We can now use these parameters to draw 10,000 samples using `numpy.random.weibull`. We can plot the distribution and calculate what percentage is over 1000 hours. "
   ]
  },
  {
   "cell_type": "code",
   "execution_count": 45,
   "metadata": {},
   "outputs": [
    {
     "data": {
      "image/png": "[encoded data removed]",
      "text/plain": [
       "<matplotlib.figure.Figure at 0x85696d8>"
      ]
     },
     "metadata": {},
     "output_type": "display_data"
    }
   ],
   "source": [
    "#select 10,000 items using the Weibull distribution \n",
    "data = [scale*np.random.weibull(shape) for i in range(10000)]\n",
    "# Plot a histogram of the drawn samples\n",
    "plt.hist(data, color='red', density=True, bins=100)\n",
    "plt.title(\"Weibull Distribution of Pump Failure Times\")\n",
    "plt.xlabel(\"Hours Run\")\n",
    "plt.ylabel(\"Probability of Failure\")\n",
    "plt.show()"
   ]
  },
  {
   "cell_type": "markdown",
   "metadata": {},
   "source": [
    "We can now check the 10,000 samples we drew to see what percentage is over 1000 hrs."
   ]
  },
  {
   "cell_type": "code",
   "execution_count": 46,
   "metadata": {},
   "outputs": [
    {
     "name": "stdout",
     "output_type": "stream",
     "text": [
      "The probability of a new pump lasting at least 1,000 hours 42.35%\n"
     ]
    }
   ],
   "source": [
    "# Check the test data to see are the values over the threshold of 1000\n",
    "over_1000 = []\n",
    "for point in data:\n",
    "    if point >= 1000:\n",
    "        over_1000.append(point)\n",
    "# Calculate the percentage over 1000       \n",
    "perc_over_1000 = round(len(over_1000)*100/len(data),2)  \n",
    "# print the results\n",
    "print(\"The probability of a new pump lasting at least 1,000 hours \" + str(perc_over_1000) +\"%\")"
   ]
  },
  {
   "cell_type": "markdown",
   "metadata": {},
   "source": [
    "So, using the `numpy.random.weibull` function, a reliability engineer can model real world scenarios to determine what the best repair and maintenance strategy might be for his fleet of pumps.\n",
    "\n",
    "As mentioned previously, one of the advantages of the Weibull distribution is the ability to model different scenarios based on the changing rate or shape parameter. In this section, the impact of the shape parameter will be highlighted using the plot shown below."
   ]
  },
  {
   "cell_type": "code",
   "execution_count": 47,
   "metadata": {},
   "outputs": [
    {
     "data": {
      "image/png": "[encoded data removed]",
      "text/plain": [
       "<matplotlib.figure.Figure at 0x1a1eb4f588>"
      ]
     },
     "metadata": {
      "needs_background": "light"
     },
     "output_type": "display_data"
    }
   ],
   "source": [
    "# Randomly select 4 different data sets using the numpy.random.weibull with different shape parameters\n",
    "beta_und_1 = [scale*np.random.weibull(0.50) for i in range(10000)]\n",
    "beta_equ_1 = [scale*np.random.weibull(1.00) for i in range(10000)]\n",
    "beta_over_1 = [scale*np.random.weibull(2.00) for i in range(10000)]\n",
    "beta_equ_3 = [scale*np.random.weibull(3.00) for i in range(10000)]\n",
    "\n",
    "# Plot a histogram of the drawn samples\n",
    "plt.hist(beta_und_1, color='red', density=True, bins=1000, histtype='step', label='Beta = 0.50')\n",
    "plt.hist(beta_equ_1, color='blue', density=True, bins=100, histtype='step', label='Beta = 1.00')\n",
    "plt.hist(beta_over_1, color='green', density=True, bins=100, histtype='step', label='Beta = 2.00')\n",
    "plt.hist(beta_equ_3, color='black', density=True, bins=100, histtype='step', label='Beta = 3.00')\n",
    "plt.title(\"Impact of Shape Parameter on Weibull Distribution\")\n",
    "plt.xlim(0,4000)\n",
    "plt.legend()\n",
    "plt.xlabel(\"Hours Run\")\n",
    "plt.ylabel(\"Probability of Failure\")\n",
    "plt.show()"
   ]
  },
  {
   "cell_type": "markdown",
   "metadata": {},
   "source": [
    "The plot illustrates the impact of the shape parameter on the distribution. When $\\beta$ is less than 1, the probability of failure is higher for lower values of hours run, and it falls off for higher values. When $\\beta$ is equal to one we see that the probability of failure drops off slowly as the hours run increases. This drop off is due to the fact that there are less pumps running as time moves on as some will have failed. When $\\beta$ is greater that 1, we see the probability of failure rise gradually to some peak value, and then fall off - this is typical of components that have a useful life and fail due to wearing out. Note that when $\\beta$ is equal to 3 The Weibull distribution resembles the normal distribution [13]. \n",
    "\n",
    "This plot was included to show why the Weibull distribution is so useful. By using the same distribution function, random samples can be drawn in lots of different ways depending on the physical use case required. Also, the shape parameters, scale parameter and location parameter can all be calculated from the data available to us."
   ]
  },
  {
   "cell_type": "markdown",
   "metadata": {},
   "source": [
    "## 6. Random Number Generators\n",
    "\n",
    "A random number generator (RNG) is a mathematical construct that is designed to to generate a random set of numbers that should not display any distinguishable patterns in their appearance or generation [15]. Is is often an algotithm written to generate the numbers. There are essentially a modern application that has existed for centuries such as rolling a die, shuffling decks of playing cards or even drawing straws. \n",
    "\n",
    "There are many uses for random numbers such as cryptography, computer gaming, gambling [16], and even as a tool in preparing data in machine learning algorithms that map input data to output data in order to make predictions [17]. \n",
    "\n",
    "In modern computing, random numbers are generated based on deterministic computing - which means that that for a given input the algorithm will always produce the same output. Essentially a computer can only execture the commands it has been given and cannot just pick random numbers out of the air! An **RNG** algorithm must take an input and apply some mathematical functions to it to produce the next random number in the series. The initial input value is known as the *seed*. A random seed specifies the start point when a computer generates a random number sequence [18]. There are 2 different type of random numbers that can be genereated by a computer and they vary only by the method by which the seed value is chosen [16]. These are:\n",
    "\n",
    "1. True Random Numbers\n",
    "1. Pseudorandom Numbers\n",
    "\n",
    "### 6.1 True Random Numbers\n",
    "\n",
    "In security and cryptography applications, the random numbers must be chosen in a way that is impossible for potential attackers to predict. In order to do this, the RNG will use a seed value that would be not possible for a potential attacker to guess. This is called using *environmental enthropy* to seed the RNG. When using this method to seed the RNG some environmental variable is used as the seed such as a temperature measurement or the time on the computers clock so that even if the algorithm is known - it would be impossible to predict the random numer series without the the initial seed value.\n",
    "\n",
    "### 6.2 Pseudorandom Numbers\n",
    "\n",
    "In other applications such as computer gaming or training machine learning algorithms it might be preferable to have a randomly created set of numbers that are repeatable. In this case the seed value would be known and not generated using an environmental variable. This allows a programmer to create a random set of numbers using a known seed value, and then if required at a later date create this same set of numbers by re-seeding the RNG with the same initial seed value.\n",
    "\n",
    "The function for setting the seed in numpy is `numpy.random.seed`\n",
    "\n",
    "The use of a seed value will be demonstarted as follows:\n",
    "1. Generate 10 random integers\n",
    "1. Generate another 10 random intergers and compare to the first set\n",
    "1. Seed the RNG with a known value, 0\n",
    "1. Generate 10 random numbers\n",
    "1. Re-seed the RNG with the same known value\n",
    "1. Generate 10 more random numbers and compare them"
   ]
  },
  {
   "cell_type": "code",
   "execution_count": 77,
   "metadata": {},
   "outputs": [
    {
     "name": "stdout",
     "output_type": "stream",
     "text": [
      "The first set of random numbers are: [81, 37, 25, 77, 72, 9, 20, 80, 69, 79]\n",
      "The second set of random numbers are: [47, 64, 82, 99, 88, 49, 29, 19, 19, 14]\n",
      "After seeding the RNG the random numbers are: [44, 47, 64, 67, 67, 9, 83, 21, 36, 87]\n",
      "Re-seeding the RNG with the same seed yields: [44, 47, 64, 67, 67, 9, 83, 21, 36, 87]\n"
     ]
    }
   ],
   "source": [
    "# Generate a set of 10 random numbers\n",
    "x = [np.random.randint(0,100) for i in range(10)]\n",
    "print(\"The first set of random numbers are: \" + str(x))\n",
    "y = [np.random.randint(0,100) for i in range(10)]\n",
    "print(\"The second set of random numbers are: \" + str(y))\n",
    "\n",
    "#Seed the random number generator with value '0'\n",
    "np.random.seed(0)\n",
    "# Generate 10 more random numbers\n",
    "p = [np.random.randint(0,100) for i in range(10)]\n",
    "print(\"After seeding the RNG the random numbers are: \" + str(p))\n",
    "\n",
    "#Re seed the random number generator with value '0'\n",
    "np.random.seed(0)\n",
    "# Generate 10 more random numbers\n",
    "q = [np.random.randint(0,100) for i in range(10)]\n",
    "print(\"Re-seeding the RNG with the same seed yields: \" + str(p))"
   ]
  },
  {
   "cell_type": "markdown",
   "metadata": {},
   "source": [
    "The program above demonstrates the following:\n",
    "1. Before the seed is known the RNG will generate different numbers every time (note that x and y are 2 different sets of numbers).\n",
    "1. Once the seed is known the RNG will generate the same list of numbers every time (p and q are the same)\n",
    "1. When the code is run the first time, the values for x and y are not predictable, however, once the seed is set on line 14, running the code subsequent times produces consistant values for x and y!\n",
    "\n",
    "Larger sets of random numbers can be generated with a known seed and they can be graphically compared as follows:"
   ]
  },
  {
   "cell_type": "code",
   "execution_count": 89,
   "metadata": {
    "scrolled": true
   },
   "outputs": [
    {
     "data": {
      "image/png": "[encoded data removed]",
      "text/plain": [
       "<matplotlib.figure.Figure at 0x1a1eacac18>"
      ]
     },
     "metadata": {
      "needs_background": "light"
     },
     "output_type": "display_data"
    }
   ],
   "source": [
    "# Seed the RNG and create a list of 10,000 random numbers using the normal distribution\n",
    "np.random.seed(0)\n",
    "data1 = [np.random.normal(100,20, 10000)]\n",
    "\n",
    "# Re-seed the RNG and create another list of 10,000 normally distributed random numbers\n",
    "np.random.seed(0)\n",
    "data2 = [np.random.normal(100,20, 10000)]\n",
    "\n",
    "# Plot a histogram of the first data set using red bars\n",
    "plt.hist(data1, color='red', density=True, bins=100)\n",
    "# Plot a histogram of the second data set using blue steps\n",
    "plt.hist(data2, color='blue', density=True, bins=100, histtype='step')\n",
    "\n",
    "# Label the plot\n",
    "plt.title(\"Comparison of Random Numbers with Known Seed\")\n",
    "plt.xlabel(\"data\")\n",
    "plt. ylabel(\"P(data)\")\n",
    "\n",
    "# Show the plot\n",
    "plt.show()"
   ]
  },
  {
   "cell_type": "markdown",
   "metadata": {},
   "source": [
    "The graphic above illustrate the effect of knowing the seed value for a random number generator. By setting the seed and creating 2 data sets `data1` and `data2`, both using the normal distribution function with the same mean and standard deviation, and then plotting 1 data set with red bars, and the other with a blue line, the distribtion for both is exactly the same."
   ]
  },
  {
   "cell_type": "markdown",
   "metadata": {},
   "source": [
    "## 7. Conclusions\n",
    "\n",
    "### 7.1 Summary of the project\n",
    "\n",
    "The objectives of the project (adapted from the project brief) was to investigate the nump.random package from Python and:\n",
    "1. Explain the overall purpose of the package.\n",
    "1. Explain the use of the “Simple random data” and “Permutations” functions.\n",
    "1. Explain the use and purpose of at least five “Distributions” functions.\n",
    "1. Explain the use of seeds in generating pseudorandom numbers.\n",
    "\n",
    "This Jupyter notebook has served as documentation for the project, and it can be seen that the project objectives have been met. The project started with some internet research into the `numpy.random` package. The documentation for the package was studied and I learned where numpy was developed and why. Some of the basic functions were trialled and tested, and graphical plots of the outputs were generated to help illustrate them. Once I had a feel for the package I started to look at the permutations functions and learned the differnence between `permutations` and `shuffle`, illustrating with examples when either function mught be more appropriate. I then looked at 5 of the distributions within the package, trying to illustrate how they are used through the use of real world examples of why engineers might be interestded in generation random data drawn from particular distributions. Finally, I researched random number generators and the seeding of them.\n",
    "\n",
    "A full list of references was maintained throughout the project and this can be found at the end of this Jupyer notebook file.\n",
    "\n",
    "### 7.2 Learning outcomes\n",
    "\n",
    "This project was a learning exercise to help develop programming and data analysis skills for the *Programming for Data Analysis* module of a Data Analytics Post Graduate Diploma course. Therefore if would be expected that some skills would be developed in both programming and data science during the course of the project. Some of the programming skills that were developed include:\n",
    "\n",
    "1. Jupyter Notebooks: This was my first experience creating Jupyter notebooks and I carried out some online tutorials to brush up my skills\n",
    "1. Built in Python Libraries: For this project I started to use some of the built in libraries in Python such as `numpy`, `matplotlib`, and `math`. During previous projects I would have written as many of the functions from scratch\n",
    "1. Improved use of git for source control: In this project I began to interact with git from the command line rather than using the graphical shortcuts in VSCode\n",
    "1. LaTex: This was my first experience with LaTex for creating some of the formulae in markdown\n",
    "1. HTML: I learned how to integrate some raw HTML in the markdown cells to assist with formatting some of the images in the file.\n",
    "\n",
    "Learnings in the field of data science include:\n",
    "\n",
    "1. Developing work flows to generate and analyse simple random data sets\n",
    "1. Improved understanding of how data fit various distribution models\n",
    "1. A better understanding of how random number generation can be used to create test data sets\n",
    "1. Developing simulations to demonstrate theoretical concepts\n",
    "\n",
    "Overall I found the project to be an excellent learning exercise and I feel that I met all of the project requirements while learning some new concepts and skills during the course of it."
   ]
  },
  {
   "cell_type": "markdown",
   "metadata": {},
   "source": [
    "## References\n",
    "\n",
    "1. [1] Project Jupyter. Project Jupyter Home. (_https://www.jupyter.org/_)\n",
    "1. [2] Numpy Deveolpment Team. Numpy Random Sampling (numpy.random) (_https://docs.scipy.org/doc/numpy-1.15.1/reference/routines.random.html_)\n",
    "1. [3] Dr. Ian McLoughlin. GMIT. Assignment 2018: Programming for Data Analysis (_https://github.com/ianmcloughlin/progda-assignment-2018/raw/master/assignment.pdf_)\n",
    "1. [4] Numpy Development Team. Numpy Home (_http://www.numpy.org_)\n",
    "1. [5] Machine Learning Plus. Numpy Tutorial Part 1. (_https://www.machinelearningplus.com/python/numpy-tutorial-part1-array-python-examples/_)\n",
    "1. [6] SciPy Development Team. Scipy Home (_https://www.scipy.org_)\n",
    "1. [7] Numpy Development Team. numpy.random.random_integers(_https://docs.scipy.org/doc/numpy-1.13.0/reference/generated/numpy.random.random_integers.html#numpy.random.random_integers)  \n",
    "1. [8] Analytics Vidhya. 6 Common Probability Distributions every data science professional should know (_https://www.analyticsvidhya.com/blog/2017/09/6-probability-distributions-data-science/_)\n",
    "1. [9] Wikipedia. List of average human height worldwide (_https://en.wikipedia.org/wiki/List_of_average_human_height_worldwide_)\n",
    "1. [10] Stack Exchange. What is the standard deviation of adult human heights for males and females? (_https://biology.stackexchange.com/questions/9730/what-is-the-standard-deviation-of-adult-human-heights-for-males-and-females_)\n",
    "1. [11] Stat Trek. Binomial Probability Distribution (_https://stattrek.com/probability-distributions/binomial.aspx_)\n",
    "1. [12] Project Maths. Module 5 (_https://www.projectmaths.ie/documents/modulars/1/Module5Presentation.pdf_)\n",
    "1. [13] The Relaibility Data Handbook - Chapter 8. 2005. TR Moss. (ISBN: 1-86058-444-6)\n",
    "1. [14]. The Scipy Development Team. scipy.stats.weibull_min(*https://docs.scipy.org/doc/scipy-0.14.0/reference/generated/scipy.stats.weibull_min.html*)  \n",
    "1. [15] www.techopedia.com. Random Number Generator. (*https://www.techopedia.com/definition/9091/random-number-generator-rng*)\n",
    "1. [16] www.howtogeek.com. How Computers Generate Random Numbers. (*https://www.howtogeek.com/183051/htg-explains-how-computers-generate-random-numbers/*) \n",
    "1. [17] www.machinelearningmastery.com. Introduction to Random Number Generators for Machine Learning in Python. (*https://machinelearningmastery.com/introduction-to-random-number-generators-for-machine-learning/*)\n",
    "1. [18] www.statisticshowto.datasciencecentral.com. What is a Random Seed?.(*https://www.statisticshowto.datasciencecentral.com/random-seed-definition/*)"
   ]
  },
  {
   "cell_type": "code",
   "execution_count": null,
   "metadata": {},
   "outputs": [],
   "source": []
  }
 ],
 "metadata": {
  "kernelspec": {
   "display_name": "Python 3",
   "language": "python",
   "name": "python3"
  },
  "language_info": {
   "codemirror_mode": {
    "name": "ipython",
    "version": 3
   },
   "file_extension": ".py",
   "mimetype": "text/x-python",
   "name": "python",
   "nbconvert_exporter": "python",
   "pygments_lexer": "ipython3",
   "version": "3.6.4"
  }
 },
 "nbformat": 4,
 "nbformat_minor": 2
}
